{
 "cells": [
  {
   "cell_type": "code",
   "execution_count": 9,
   "metadata": {},
   "outputs": [
    {
     "data": {
      "text/html": [
       "<div>\n",
       "<style scoped>\n",
       "    .dataframe tbody tr th:only-of-type {\n",
       "        vertical-align: middle;\n",
       "    }\n",
       "\n",
       "    .dataframe tbody tr th {\n",
       "        vertical-align: top;\n",
       "    }\n",
       "\n",
       "    .dataframe thead th {\n",
       "        text-align: right;\n",
       "    }\n",
       "</style>\n",
       "<table border=\"1\" class=\"dataframe\">\n",
       "  <thead>\n",
       "    <tr style=\"text-align: right;\">\n",
       "      <th></th>\n",
       "      <th>Country name</th>\n",
       "      <th>Ladder score</th>\n",
       "      <th>Standard error of ladder score</th>\n",
       "      <th>upperwhisker</th>\n",
       "      <th>lowerwhisker</th>\n",
       "      <th>Logged GDP per capita</th>\n",
       "      <th>Social support</th>\n",
       "      <th>Healthy life expectancy</th>\n",
       "      <th>Freedom to make life choices</th>\n",
       "      <th>Generosity</th>\n",
       "      <th>Perceptions of corruption</th>\n",
       "      <th>Ladder score in Dystopia</th>\n",
       "      <th>Explained by: Log GDP per capita</th>\n",
       "      <th>Explained by: Social support</th>\n",
       "      <th>Explained by: Healthy life expectancy</th>\n",
       "      <th>Explained by: Freedom to make life choices</th>\n",
       "      <th>Explained by: Generosity</th>\n",
       "      <th>Explained by: Perceptions of corruption</th>\n",
       "      <th>Dystopia + residual</th>\n",
       "    </tr>\n",
       "  </thead>\n",
       "  <tbody>\n",
       "    <tr>\n",
       "      <th>0</th>\n",
       "      <td>Finland</td>\n",
       "      <td>7.804</td>\n",
       "      <td>0.036</td>\n",
       "      <td>7.875</td>\n",
       "      <td>7.733</td>\n",
       "      <td>10.792</td>\n",
       "      <td>0.969</td>\n",
       "      <td>71.150</td>\n",
       "      <td>0.961</td>\n",
       "      <td>-0.019</td>\n",
       "      <td>0.182</td>\n",
       "      <td>1.778</td>\n",
       "      <td>1.888</td>\n",
       "      <td>1.585</td>\n",
       "      <td>0.535</td>\n",
       "      <td>0.772</td>\n",
       "      <td>0.126</td>\n",
       "      <td>0.535</td>\n",
       "      <td>2.363</td>\n",
       "    </tr>\n",
       "    <tr>\n",
       "      <th>1</th>\n",
       "      <td>Denmark</td>\n",
       "      <td>7.586</td>\n",
       "      <td>0.041</td>\n",
       "      <td>7.667</td>\n",
       "      <td>7.506</td>\n",
       "      <td>10.962</td>\n",
       "      <td>0.954</td>\n",
       "      <td>71.250</td>\n",
       "      <td>0.934</td>\n",
       "      <td>0.134</td>\n",
       "      <td>0.196</td>\n",
       "      <td>1.778</td>\n",
       "      <td>1.949</td>\n",
       "      <td>1.548</td>\n",
       "      <td>0.537</td>\n",
       "      <td>0.734</td>\n",
       "      <td>0.208</td>\n",
       "      <td>0.525</td>\n",
       "      <td>2.084</td>\n",
       "    </tr>\n",
       "    <tr>\n",
       "      <th>2</th>\n",
       "      <td>Iceland</td>\n",
       "      <td>7.530</td>\n",
       "      <td>0.049</td>\n",
       "      <td>7.625</td>\n",
       "      <td>7.434</td>\n",
       "      <td>10.896</td>\n",
       "      <td>0.983</td>\n",
       "      <td>72.050</td>\n",
       "      <td>0.936</td>\n",
       "      <td>0.211</td>\n",
       "      <td>0.668</td>\n",
       "      <td>1.778</td>\n",
       "      <td>1.926</td>\n",
       "      <td>1.620</td>\n",
       "      <td>0.559</td>\n",
       "      <td>0.738</td>\n",
       "      <td>0.250</td>\n",
       "      <td>0.187</td>\n",
       "      <td>2.250</td>\n",
       "    </tr>\n",
       "    <tr>\n",
       "      <th>3</th>\n",
       "      <td>Israel</td>\n",
       "      <td>7.473</td>\n",
       "      <td>0.032</td>\n",
       "      <td>7.535</td>\n",
       "      <td>7.411</td>\n",
       "      <td>10.639</td>\n",
       "      <td>0.943</td>\n",
       "      <td>72.697</td>\n",
       "      <td>0.809</td>\n",
       "      <td>-0.023</td>\n",
       "      <td>0.708</td>\n",
       "      <td>1.778</td>\n",
       "      <td>1.833</td>\n",
       "      <td>1.521</td>\n",
       "      <td>0.577</td>\n",
       "      <td>0.569</td>\n",
       "      <td>0.124</td>\n",
       "      <td>0.158</td>\n",
       "      <td>2.691</td>\n",
       "    </tr>\n",
       "    <tr>\n",
       "      <th>4</th>\n",
       "      <td>Netherlands</td>\n",
       "      <td>7.403</td>\n",
       "      <td>0.029</td>\n",
       "      <td>7.460</td>\n",
       "      <td>7.346</td>\n",
       "      <td>10.942</td>\n",
       "      <td>0.930</td>\n",
       "      <td>71.550</td>\n",
       "      <td>0.887</td>\n",
       "      <td>0.213</td>\n",
       "      <td>0.379</td>\n",
       "      <td>1.778</td>\n",
       "      <td>1.942</td>\n",
       "      <td>1.488</td>\n",
       "      <td>0.545</td>\n",
       "      <td>0.672</td>\n",
       "      <td>0.251</td>\n",
       "      <td>0.394</td>\n",
       "      <td>2.110</td>\n",
       "    </tr>\n",
       "  </tbody>\n",
       "</table>\n",
       "</div>"
      ],
      "text/plain": [
       "  Country name  Ladder score  Standard error of ladder score  upperwhisker  \\\n",
       "0      Finland         7.804                           0.036         7.875   \n",
       "1      Denmark         7.586                           0.041         7.667   \n",
       "2      Iceland         7.530                           0.049         7.625   \n",
       "3       Israel         7.473                           0.032         7.535   \n",
       "4  Netherlands         7.403                           0.029         7.460   \n",
       "\n",
       "   lowerwhisker  Logged GDP per capita  Social support  \\\n",
       "0         7.733                 10.792           0.969   \n",
       "1         7.506                 10.962           0.954   \n",
       "2         7.434                 10.896           0.983   \n",
       "3         7.411                 10.639           0.943   \n",
       "4         7.346                 10.942           0.930   \n",
       "\n",
       "   Healthy life expectancy  Freedom to make life choices  Generosity  \\\n",
       "0                   71.150                         0.961      -0.019   \n",
       "1                   71.250                         0.934       0.134   \n",
       "2                   72.050                         0.936       0.211   \n",
       "3                   72.697                         0.809      -0.023   \n",
       "4                   71.550                         0.887       0.213   \n",
       "\n",
       "   Perceptions of corruption  Ladder score in Dystopia  \\\n",
       "0                      0.182                     1.778   \n",
       "1                      0.196                     1.778   \n",
       "2                      0.668                     1.778   \n",
       "3                      0.708                     1.778   \n",
       "4                      0.379                     1.778   \n",
       "\n",
       "   Explained by: Log GDP per capita  Explained by: Social support  \\\n",
       "0                             1.888                         1.585   \n",
       "1                             1.949                         1.548   \n",
       "2                             1.926                         1.620   \n",
       "3                             1.833                         1.521   \n",
       "4                             1.942                         1.488   \n",
       "\n",
       "   Explained by: Healthy life expectancy  \\\n",
       "0                                  0.535   \n",
       "1                                  0.537   \n",
       "2                                  0.559   \n",
       "3                                  0.577   \n",
       "4                                  0.545   \n",
       "\n",
       "   Explained by: Freedom to make life choices  Explained by: Generosity  \\\n",
       "0                                       0.772                     0.126   \n",
       "1                                       0.734                     0.208   \n",
       "2                                       0.738                     0.250   \n",
       "3                                       0.569                     0.124   \n",
       "4                                       0.672                     0.251   \n",
       "\n",
       "   Explained by: Perceptions of corruption  Dystopia + residual  \n",
       "0                                    0.535                2.363  \n",
       "1                                    0.525                2.084  \n",
       "2                                    0.187                2.250  \n",
       "3                                    0.158                2.691  \n",
       "4                                    0.394                2.110  "
      ]
     },
     "execution_count": 9,
     "metadata": {},
     "output_type": "execute_result"
    }
   ],
   "source": [
    "import plotly.express as px\n",
    "import pandas as pd\n",
    "\n",
    "# Load the dataset\n",
    "df = pd.read_csv('WHR2023.csv')\n",
    "df.head()\n"
   ]
  },
  {
   "cell_type": "code",
   "execution_count": 10,
   "metadata": {},
   "outputs": [
    {
     "name": "stdout",
     "output_type": "stream",
     "text": [
      "<class 'pandas.core.frame.DataFrame'>\n",
      "RangeIndex: 137 entries, 0 to 136\n",
      "Data columns (total 19 columns):\n",
      " #   Column                                      Non-Null Count  Dtype  \n",
      "---  ------                                      --------------  -----  \n",
      " 0   Country name                                137 non-null    object \n",
      " 1   Ladder score                                137 non-null    float64\n",
      " 2   Standard error of ladder score              137 non-null    float64\n",
      " 3   upperwhisker                                137 non-null    float64\n",
      " 4   lowerwhisker                                137 non-null    float64\n",
      " 5   Logged GDP per capita                       137 non-null    float64\n",
      " 6   Social support                              137 non-null    float64\n",
      " 7   Healthy life expectancy                     136 non-null    float64\n",
      " 8   Freedom to make life choices                137 non-null    float64\n",
      " 9   Generosity                                  137 non-null    float64\n",
      " 10  Perceptions of corruption                   137 non-null    float64\n",
      " 11  Ladder score in Dystopia                    137 non-null    float64\n",
      " 12  Explained by: Log GDP per capita            137 non-null    float64\n",
      " 13  Explained by: Social support                137 non-null    float64\n",
      " 14  Explained by: Healthy life expectancy       136 non-null    float64\n",
      " 15  Explained by: Freedom to make life choices  137 non-null    float64\n",
      " 16  Explained by: Generosity                    137 non-null    float64\n",
      " 17  Explained by: Perceptions of corruption     137 non-null    float64\n",
      " 18  Dystopia + residual                         136 non-null    float64\n",
      "dtypes: float64(18), object(1)\n",
      "memory usage: 20.5+ KB\n"
     ]
    }
   ],
   "source": [
    "# Some basic data exploration\n",
    "df.info()"
   ]
  },
  {
   "attachments": {},
   "cell_type": "markdown",
   "metadata": {},
   "source": [
    "1 missing value for dystopia + residual"
   ]
  },
  {
   "cell_type": "code",
   "execution_count": 11,
   "metadata": {},
   "outputs": [
    {
     "data": {
      "text/html": [
       "<div>\n",
       "<style scoped>\n",
       "    .dataframe tbody tr th:only-of-type {\n",
       "        vertical-align: middle;\n",
       "    }\n",
       "\n",
       "    .dataframe tbody tr th {\n",
       "        vertical-align: top;\n",
       "    }\n",
       "\n",
       "    .dataframe thead th {\n",
       "        text-align: right;\n",
       "    }\n",
       "</style>\n",
       "<table border=\"1\" class=\"dataframe\">\n",
       "  <thead>\n",
       "    <tr style=\"text-align: right;\">\n",
       "      <th></th>\n",
       "      <th>Ladder score</th>\n",
       "      <th>Standard error of ladder score</th>\n",
       "      <th>upperwhisker</th>\n",
       "      <th>lowerwhisker</th>\n",
       "      <th>Logged GDP per capita</th>\n",
       "      <th>Social support</th>\n",
       "      <th>Healthy life expectancy</th>\n",
       "      <th>Freedom to make life choices</th>\n",
       "      <th>Generosity</th>\n",
       "      <th>Perceptions of corruption</th>\n",
       "      <th>Ladder score in Dystopia</th>\n",
       "      <th>Explained by: Log GDP per capita</th>\n",
       "      <th>Explained by: Social support</th>\n",
       "      <th>Explained by: Healthy life expectancy</th>\n",
       "      <th>Explained by: Freedom to make life choices</th>\n",
       "      <th>Explained by: Generosity</th>\n",
       "      <th>Explained by: Perceptions of corruption</th>\n",
       "      <th>Dystopia + residual</th>\n",
       "    </tr>\n",
       "  </thead>\n",
       "  <tbody>\n",
       "    <tr>\n",
       "      <th>count</th>\n",
       "      <td>137.000000</td>\n",
       "      <td>137.000000</td>\n",
       "      <td>137.000000</td>\n",
       "      <td>137.000000</td>\n",
       "      <td>137.000000</td>\n",
       "      <td>137.000000</td>\n",
       "      <td>136.000000</td>\n",
       "      <td>137.000000</td>\n",
       "      <td>137.000000</td>\n",
       "      <td>137.000000</td>\n",
       "      <td>137.000</td>\n",
       "      <td>137.000000</td>\n",
       "      <td>137.000000</td>\n",
       "      <td>136.000000</td>\n",
       "      <td>137.000000</td>\n",
       "      <td>137.000000</td>\n",
       "      <td>137.000000</td>\n",
       "      <td>136.000000</td>\n",
       "    </tr>\n",
       "    <tr>\n",
       "      <th>mean</th>\n",
       "      <td>5.539796</td>\n",
       "      <td>0.064715</td>\n",
       "      <td>5.666526</td>\n",
       "      <td>5.412971</td>\n",
       "      <td>9.449796</td>\n",
       "      <td>0.799073</td>\n",
       "      <td>64.967632</td>\n",
       "      <td>0.787394</td>\n",
       "      <td>0.022431</td>\n",
       "      <td>0.725401</td>\n",
       "      <td>1.778</td>\n",
       "      <td>1.406985</td>\n",
       "      <td>1.156212</td>\n",
       "      <td>0.366176</td>\n",
       "      <td>0.540000</td>\n",
       "      <td>0.148474</td>\n",
       "      <td>0.145898</td>\n",
       "      <td>1.777838</td>\n",
       "    </tr>\n",
       "    <tr>\n",
       "      <th>std</th>\n",
       "      <td>1.139929</td>\n",
       "      <td>0.023031</td>\n",
       "      <td>1.117421</td>\n",
       "      <td>1.163724</td>\n",
       "      <td>1.207302</td>\n",
       "      <td>0.129222</td>\n",
       "      <td>5.750390</td>\n",
       "      <td>0.112371</td>\n",
       "      <td>0.141707</td>\n",
       "      <td>0.176956</td>\n",
       "      <td>0.000</td>\n",
       "      <td>0.432963</td>\n",
       "      <td>0.326322</td>\n",
       "      <td>0.156691</td>\n",
       "      <td>0.149501</td>\n",
       "      <td>0.076053</td>\n",
       "      <td>0.126723</td>\n",
       "      <td>0.504390</td>\n",
       "    </tr>\n",
       "    <tr>\n",
       "      <th>min</th>\n",
       "      <td>1.859000</td>\n",
       "      <td>0.029000</td>\n",
       "      <td>1.923000</td>\n",
       "      <td>1.795000</td>\n",
       "      <td>5.527000</td>\n",
       "      <td>0.341000</td>\n",
       "      <td>51.530000</td>\n",
       "      <td>0.382000</td>\n",
       "      <td>-0.254000</td>\n",
       "      <td>0.146000</td>\n",
       "      <td>1.778</td>\n",
       "      <td>0.000000</td>\n",
       "      <td>0.000000</td>\n",
       "      <td>0.000000</td>\n",
       "      <td>0.000000</td>\n",
       "      <td>0.000000</td>\n",
       "      <td>0.000000</td>\n",
       "      <td>-0.110000</td>\n",
       "    </tr>\n",
       "    <tr>\n",
       "      <th>25%</th>\n",
       "      <td>4.724000</td>\n",
       "      <td>0.047000</td>\n",
       "      <td>4.980000</td>\n",
       "      <td>4.496000</td>\n",
       "      <td>8.591000</td>\n",
       "      <td>0.722000</td>\n",
       "      <td>60.648500</td>\n",
       "      <td>0.724000</td>\n",
       "      <td>-0.074000</td>\n",
       "      <td>0.668000</td>\n",
       "      <td>1.778</td>\n",
       "      <td>1.099000</td>\n",
       "      <td>0.962000</td>\n",
       "      <td>0.248500</td>\n",
       "      <td>0.455000</td>\n",
       "      <td>0.097000</td>\n",
       "      <td>0.060000</td>\n",
       "      <td>1.555250</td>\n",
       "    </tr>\n",
       "    <tr>\n",
       "      <th>50%</th>\n",
       "      <td>5.684000</td>\n",
       "      <td>0.060000</td>\n",
       "      <td>5.797000</td>\n",
       "      <td>5.529000</td>\n",
       "      <td>9.567000</td>\n",
       "      <td>0.827000</td>\n",
       "      <td>65.837500</td>\n",
       "      <td>0.801000</td>\n",
       "      <td>0.001000</td>\n",
       "      <td>0.774000</td>\n",
       "      <td>1.778</td>\n",
       "      <td>1.449000</td>\n",
       "      <td>1.227000</td>\n",
       "      <td>0.389500</td>\n",
       "      <td>0.557000</td>\n",
       "      <td>0.137000</td>\n",
       "      <td>0.111000</td>\n",
       "      <td>1.848500</td>\n",
       "    </tr>\n",
       "    <tr>\n",
       "      <th>75%</th>\n",
       "      <td>6.334000</td>\n",
       "      <td>0.077000</td>\n",
       "      <td>6.441000</td>\n",
       "      <td>6.243000</td>\n",
       "      <td>10.540000</td>\n",
       "      <td>0.896000</td>\n",
       "      <td>69.412500</td>\n",
       "      <td>0.874000</td>\n",
       "      <td>0.117000</td>\n",
       "      <td>0.846000</td>\n",
       "      <td>1.778</td>\n",
       "      <td>1.798000</td>\n",
       "      <td>1.401000</td>\n",
       "      <td>0.487500</td>\n",
       "      <td>0.656000</td>\n",
       "      <td>0.199000</td>\n",
       "      <td>0.187000</td>\n",
       "      <td>2.078750</td>\n",
       "    </tr>\n",
       "    <tr>\n",
       "      <th>max</th>\n",
       "      <td>7.804000</td>\n",
       "      <td>0.147000</td>\n",
       "      <td>7.875000</td>\n",
       "      <td>7.733000</td>\n",
       "      <td>11.660000</td>\n",
       "      <td>0.983000</td>\n",
       "      <td>77.280000</td>\n",
       "      <td>0.961000</td>\n",
       "      <td>0.531000</td>\n",
       "      <td>0.929000</td>\n",
       "      <td>1.778</td>\n",
       "      <td>2.200000</td>\n",
       "      <td>1.620000</td>\n",
       "      <td>0.702000</td>\n",
       "      <td>0.772000</td>\n",
       "      <td>0.422000</td>\n",
       "      <td>0.561000</td>\n",
       "      <td>2.955000</td>\n",
       "    </tr>\n",
       "  </tbody>\n",
       "</table>\n",
       "</div>"
      ],
      "text/plain": [
       "       Ladder score  Standard error of ladder score  upperwhisker  \\\n",
       "count    137.000000                      137.000000    137.000000   \n",
       "mean       5.539796                        0.064715      5.666526   \n",
       "std        1.139929                        0.023031      1.117421   \n",
       "min        1.859000                        0.029000      1.923000   \n",
       "25%        4.724000                        0.047000      4.980000   \n",
       "50%        5.684000                        0.060000      5.797000   \n",
       "75%        6.334000                        0.077000      6.441000   \n",
       "max        7.804000                        0.147000      7.875000   \n",
       "\n",
       "       lowerwhisker  Logged GDP per capita  Social support  \\\n",
       "count    137.000000             137.000000      137.000000   \n",
       "mean       5.412971               9.449796        0.799073   \n",
       "std        1.163724               1.207302        0.129222   \n",
       "min        1.795000               5.527000        0.341000   \n",
       "25%        4.496000               8.591000        0.722000   \n",
       "50%        5.529000               9.567000        0.827000   \n",
       "75%        6.243000              10.540000        0.896000   \n",
       "max        7.733000              11.660000        0.983000   \n",
       "\n",
       "       Healthy life expectancy  Freedom to make life choices  Generosity  \\\n",
       "count               136.000000                    137.000000  137.000000   \n",
       "mean                 64.967632                      0.787394    0.022431   \n",
       "std                   5.750390                      0.112371    0.141707   \n",
       "min                  51.530000                      0.382000   -0.254000   \n",
       "25%                  60.648500                      0.724000   -0.074000   \n",
       "50%                  65.837500                      0.801000    0.001000   \n",
       "75%                  69.412500                      0.874000    0.117000   \n",
       "max                  77.280000                      0.961000    0.531000   \n",
       "\n",
       "       Perceptions of corruption  Ladder score in Dystopia  \\\n",
       "count                 137.000000                   137.000   \n",
       "mean                    0.725401                     1.778   \n",
       "std                     0.176956                     0.000   \n",
       "min                     0.146000                     1.778   \n",
       "25%                     0.668000                     1.778   \n",
       "50%                     0.774000                     1.778   \n",
       "75%                     0.846000                     1.778   \n",
       "max                     0.929000                     1.778   \n",
       "\n",
       "       Explained by: Log GDP per capita  Explained by: Social support  \\\n",
       "count                        137.000000                    137.000000   \n",
       "mean                           1.406985                      1.156212   \n",
       "std                            0.432963                      0.326322   \n",
       "min                            0.000000                      0.000000   \n",
       "25%                            1.099000                      0.962000   \n",
       "50%                            1.449000                      1.227000   \n",
       "75%                            1.798000                      1.401000   \n",
       "max                            2.200000                      1.620000   \n",
       "\n",
       "       Explained by: Healthy life expectancy  \\\n",
       "count                             136.000000   \n",
       "mean                                0.366176   \n",
       "std                                 0.156691   \n",
       "min                                 0.000000   \n",
       "25%                                 0.248500   \n",
       "50%                                 0.389500   \n",
       "75%                                 0.487500   \n",
       "max                                 0.702000   \n",
       "\n",
       "       Explained by: Freedom to make life choices  Explained by: Generosity  \\\n",
       "count                                  137.000000                137.000000   \n",
       "mean                                     0.540000                  0.148474   \n",
       "std                                      0.149501                  0.076053   \n",
       "min                                      0.000000                  0.000000   \n",
       "25%                                      0.455000                  0.097000   \n",
       "50%                                      0.557000                  0.137000   \n",
       "75%                                      0.656000                  0.199000   \n",
       "max                                      0.772000                  0.422000   \n",
       "\n",
       "       Explained by: Perceptions of corruption  Dystopia + residual  \n",
       "count                               137.000000           136.000000  \n",
       "mean                                  0.145898             1.777838  \n",
       "std                                   0.126723             0.504390  \n",
       "min                                   0.000000            -0.110000  \n",
       "25%                                   0.060000             1.555250  \n",
       "50%                                   0.111000             1.848500  \n",
       "75%                                   0.187000             2.078750  \n",
       "max                                   0.561000             2.955000  "
      ]
     },
     "execution_count": 11,
     "metadata": {},
     "output_type": "execute_result"
    }
   ],
   "source": [
    "# Basic stats\n",
    "df.describe()"
   ]
  },
  {
   "attachments": {},
   "cell_type": "markdown",
   "metadata": {},
   "source": [
    "### Data Visualization"
   ]
  },
  {
   "cell_type": "code",
   "execution_count": 14,
   "metadata": {},
   "outputs": [
    {
     "data": {
      "text/plain": [
       "Index(['Country name', 'Ladder score', 'Standard error of ladder score',\n",
       "       'upperwhisker', 'lowerwhisker', 'Logged GDP per capita',\n",
       "       'Social support', 'Healthy life expectancy',\n",
       "       'Freedom to make life choices', 'Generosity',\n",
       "       'Perceptions of corruption', 'Ladder score in Dystopia',\n",
       "       'Explained by: Log GDP per capita', 'Explained by: Social support',\n",
       "       'Explained by: Healthy life expectancy',\n",
       "       'Explained by: Freedom to make life choices',\n",
       "       'Explained by: Generosity', 'Explained by: Perceptions of corruption',\n",
       "       'Dystopia + residual'],\n",
       "      dtype='object')"
      ]
     },
     "execution_count": 14,
     "metadata": {},
     "output_type": "execute_result"
    }
   ],
   "source": [
    "df.columns"
   ]
  },
  {
   "cell_type": "code",
   "execution_count": 17,
   "metadata": {},
   "outputs": [
    {
     "data": {
      "application/vnd.plotly.v1+json": {
       "config": {
        "plotlyServerURL": "https://plot.ly"
       },
       "data": [
        {
         "coloraxis": "coloraxis",
         "customdata": [
          [
           10.792,
           0.969,
           71.15,
           0.961,
           -0.019,
           0.182
          ],
          [
           10.962,
           0.954,
           71.25,
           0.934,
           0.134,
           0.196
          ],
          [
           10.896,
           0.983,
           72.05,
           0.936,
           0.211,
           0.668
          ],
          [
           10.639,
           0.943,
           72.697,
           0.809,
           -0.023,
           0.708
          ],
          [
           10.942,
           0.93,
           71.55,
           0.887,
           0.213,
           0.379
          ],
          [
           10.883,
           0.939,
           72.15,
           0.948,
           0.165,
           0.202
          ],
          [
           11.088,
           0.943,
           71.5,
           0.947,
           0.141,
           0.283
          ],
          [
           11.164,
           0.92,
           72.9,
           0.891,
           0.027,
           0.266
          ],
          [
           11.66,
           0.879,
           71.675,
           0.915,
           0.024,
           0.345
          ],
          [
           10.662,
           0.952,
           70.35,
           0.887,
           0.175,
           0.271
          ],
          [
           10.899,
           0.888,
           71.15,
           0.855,
           0.102,
           0.497
          ],
          [
           10.821,
           0.934,
           71.05,
           0.89,
           0.198,
           0.496
          ],
          [
           10.773,
           0.929,
           71.4,
           0.874,
           0.153,
           0.42
          ],
          [
           11.527,
           0.905,
           71.3,
           0.874,
           0.092,
           0.358
          ],
          [
           11.048,
           0.919,
           65.85,
           0.8,
           0.137,
           0.689
          ],
          [
           10.879,
           0.896,
           71.3,
           0.846,
           0.03,
           0.42
          ],
          [
           10.844,
           0.915,
           70.899,
           0.825,
           0.001,
           0.549
          ],
          [
           10.611,
           0.953,
           69.05,
           0.903,
           0.04,
           0.859
          ],
          [
           10.704,
           0.882,
           70.3,
           0.852,
           0.253,
           0.454
          ],
          [
           10.568,
           0.939,
           67.397,
           0.748,
           -0.145,
           0.805
          ],
          [
           10.701,
           0.909,
           72.3,
           0.819,
           -0.1,
           0.553
          ],
          [
           10.588,
           0.951,
           71.052,
           0.913,
           0.014,
           0.771
          ],
          [
           9.952,
           0.872,
           70,
           0.895,
           -0.07,
           0.768
          ],
          [
           10.339,
           0.848,
           67.051,
           0.856,
           -0.172,
           0.929
          ],
          [
           11.571,
           0.878,
           73.8,
           0.878,
           0.063,
           0.146
          ],
          [
           11.145,
           0.826,
           66.243,
           0.942,
           0.096,
           0.584
          ],
          [
           10.797,
           0.884,
           69.6,
           0.804,
           -0.129,
           0.681
          ],
          [
           10.037,
           0.913,
           67.5,
           0.895,
           -0.065,
           0.575
          ],
          [
           10.353,
           0.953,
           68.838,
           0.753,
           -0.016,
           0.898
          ],
          [
           10.715,
           0.884,
           64.399,
           0.894,
           -0.081,
           0.691
          ],
          [
           10.541,
           0.946,
           69.65,
           0.929,
           0.032,
           0.409
          ],
          [
           10.54,
           0.932,
           72.35,
           0.782,
           -0.066,
           0.711
          ],
          [
           10.634,
           0.882,
           72.05,
           0.711,
           -0.074,
           0.842
          ],
          [
           9.359,
           0.844,
           65.195,
           0.861,
           0.259,
           0.866
          ],
          [
           10.114,
           0.889,
           70.3,
           0.792,
           -0.011,
           0.823
          ],
          [
           9.85,
           0.804,
           65.8,
           0.856,
           -0.094,
           0.768
          ],
          [
           10.661,
           0.923,
           71.6,
           0.886,
           0.119,
           0.729
          ],
          [
           10.305,
           0.896,
           68.95,
           0.855,
           -0.133,
           0.878
          ],
          [
           10.453,
           0.925,
           69.049,
           0.765,
           -0.031,
           0.736
          ],
          [
           8.618,
           0.853,
           65.65,
           0.877,
           0.021,
           0.625
          ],
          [
           10.37,
           0.937,
           66.4,
           0.818,
           -0.056,
           0.83
          ],
          [
           10.776,
           0.844,
           65.825,
           0.944,
           0.117,
           0.737
          ],
          [
           9.116,
           0.812,
           62.9,
           0.856,
           -0.057,
           0.837
          ],
          [
           10.166,
           0.931,
           65.802,
           0.853,
           0,
           0.721
          ],
          [
           9.854,
           0.873,
           67.088,
           0.845,
           0.204,
           0.816
          ],
          [
           10.611,
           0.826,
           72.802,
           0.724,
           -0.06,
           0.86
          ],
          [
           10.616,
           0.894,
           74.349,
           0.799,
           -0.237,
           0.64
          ],
          [
           10.341,
           0.917,
           68.95,
           0.757,
           -0.093,
           0.925
          ],
          [
           9.582,
           0.836,
           65.749,
           0.801,
           -0.009,
           0.738
          ],
          [
           9.089,
           0.755,
           65.597,
           0.918,
           -0.108,
           0.62
          ],
          [
           10.419,
           0.943,
           67.5,
           0.758,
           -0.059,
           0.839
          ],
          [
           9.959,
           0.891,
           67.2,
           0.823,
           -0.089,
           0.814
          ],
          [
           8.635,
           0.766,
           64.063,
           0.843,
           0.097,
           0.843
          ],
          [
           8.948,
           0.875,
           65.301,
           0.938,
           0.23,
           0.638
          ],
          [
           10.169,
           0.799,
           65.662,
           0.877,
           0.16,
           0.758
          ],
          [
           10.429,
           0.878,
           71.25,
           0.902,
           -0.196,
           0.878
          ],
          [
           10.693,
           0.812,
           73.65,
           0.717,
           -0.046,
           0.701
          ],
          [
           10.288,
           0.835,
           71.15,
           0.568,
           -0.24,
           0.793
          ],
          [
           9.957,
           0.888,
           63.85,
           0.813,
           -0.028,
           0.775
          ],
          [
           9.751,
           0.874,
           68.45,
           0.85,
           0.289,
           0.91
          ],
          [
           9.372,
           0.933,
           60.5,
           0.701,
           0.19,
           0.849
          ],
          [
           8.486,
           0.911,
           66.852,
           0.934,
           0.181,
           0.904
          ],
          [
           9.499,
           0.857,
           65.299,
           0.84,
           -0.08,
           0.901
          ],
          [
           9.738,
           0.836,
           68.689,
           0.882,
           -0.041,
           0.727
          ],
          [
           9.287,
           0.821,
           65.502,
           0.939,
           -0.004,
           0.759
          ],
          [
           9.51,
           0.906,
           65.9,
           0.891,
           0.021,
           0.843
          ],
          [
           9.813,
           0.89,
           67.1,
           0.805,
           0.063,
           0.844
          ],
          [
           9.165,
           0.867,
           66.6,
           0.822,
           -0.106,
           0.875
          ],
          [
           8.985,
           0.811,
           63.599,
           0.868,
           -0.063,
           0.846
          ],
          [
           10.21,
           0.889,
           64.947,
           0.719,
           -0.03,
           0.801
          ],
          [
           9.616,
           0.88,
           67.275,
           0.746,
           0.206,
           0.918
          ],
          [
           9.584,
           0.822,
           69.35,
           0.804,
           -0.104,
           0.834
          ],
          [
           9.811,
           0.827,
           64.399,
           0.85,
           -0.099,
           0.657
          ],
          [
           9.27,
           0.806,
           69,
           0.802,
           -0.108,
           0.833
          ],
          [
           9.402,
           0.798,
           69.85,
           0.794,
           -0.119,
           0.892
          ],
          [
           8.979,
           0.78,
           62.038,
           0.919,
           -0.06,
           0.732
          ],
          [
           10.087,
           0.918,
           66.5,
           0.801,
           -0.057,
           0.911
          ],
          [
           8.256,
           0.748,
           61.847,
           0.808,
           0.146,
           0.783
          ],
          [
           9.615,
           0.79,
           67.789,
           0.796,
           -0.155,
           0.705
          ],
          [
           8.237,
           0.836,
           62.226,
           0.832,
           -0.06,
           0.522
          ],
          [
           9.3,
           0.855,
           66.549,
           0.571,
           -0.117,
           0.717
          ],
          [
           10.966,
           0.817,
           77.28,
           0.687,
           -0.026,
           0.385
          ],
          [
           9.567,
           0.718,
           69.15,
           0.794,
           -0.007,
           0.878
          ],
          [
           9.385,
           0.804,
           63.048,
           0.88,
           0.531,
           0.876
          ],
          [
           9.478,
           0.907,
           56.989,
           0.73,
           -0.087,
           0.902
          ],
          [
           8.095,
           0.605,
           56.85,
           0.73,
           -0.004,
           0.739
          ],
          [
           9.703,
           0.805,
           66.5,
           0.769,
           0.131,
           0.902
          ],
          [
           5.527,
           0.839,
           64.05,
           0.659,
           0.128,
           0.811
          ],
          [
           8.962,
           0.679,
           60.946,
           0.919,
           0.091,
           0.703
          ],
          [
           9.646,
           0.716,
           64.95,
           0.786,
           -0.254,
           0.649
          ],
          [
           7.88,
           0.649,
           54.185,
           0.659,
           0.125,
           0.787
          ],
          [
           9.314,
           0.878,
           64.55,
           0.795,
           0.24,
           0.907
          ],
          [
           8.576,
           0.572,
           55.953,
           0.733,
           0.003,
           0.746
          ],
          [
           9.537,
           0.746,
           58.252,
           0.642,
           -0.187,
           0.786
          ],
          [
           8.496,
           0.74,
           54.891,
           0.718,
           0.073,
           0.911
          ],
          [
           8.217,
           0.686,
           55.847,
           0.686,
           0.015,
           0.846
          ],
          [
           7.116,
           0.692,
           51.53,
           0.851,
           0.047,
           0.66
          ],
          [
           9.098,
           0.718,
           63.415,
           0.646,
           -0.005,
           0.876
          ],
          [
           8.716,
           0.859,
           null,
           0.694,
           -0.132,
           0.836
          ],
          [
           8.973,
           0.553,
           63.901,
           0.787,
           -0.231,
           0.811
          ],
          [
           9.61,
           0.778,
           66.6,
           0.593,
           0.173,
           0.747
          ],
          [
           8.155,
           0.629,
           59.999,
           0.772,
           0.011,
           0.846
          ],
          [
           8.591,
           0.644,
           60.475,
           0.622,
           -0.013,
           0.657
          ],
          [
           7.667,
           0.663,
           55.461,
           0.696,
           0.095,
           0.771
          ],
          [
           9.121,
           0.787,
           56.851,
           0.669,
           -0.126,
           0.83
          ],
          [
           10.307,
           0.796,
           68.663,
           0.475,
           -0.077,
           0.795
          ],
          [
           8.596,
           0.641,
           58.763,
           0.777,
           0.139,
           0.881
          ],
          [
           8.54,
           0.601,
           57.313,
           0.766,
           0.008,
           0.787
          ],
          [
           7.091,
           0.59,
           56.55,
           0.788,
           0.032,
           0.734
          ],
          [
           9.244,
           0.73,
           67,
           0.576,
           -0.213,
           0.907
          ],
          [
           8.458,
           0.69,
           58.499,
           0.696,
           0.288,
           0.852
          ],
          [
           9.491,
           0.826,
           67.15,
           0.787,
           -0.03,
           0.808
          ],
          [
           7.716,
           0.794,
           58.913,
           0.701,
           0.114,
           0.857
          ],
          [
           7.261,
           0.722,
           53.125,
           0.677,
           0.221,
           0.807
          ],
          [
           8.385,
           0.747,
           61.9,
           0.958,
           0.073,
           0.857
          ],
          [
           8.103,
           0.437,
           56.095,
           0.743,
           -0.043,
           0.576
          ],
          [
           8.404,
           0.787,
           61.388,
           0.727,
           0.491,
           0.658
          ],
          [
           8.685,
           0.544,
           64.548,
           0.845,
           0.005,
           0.698
          ],
          [
           7.648,
           0.584,
           57.9,
           0.596,
           0.364,
           0.883
          ],
          [
           7.655,
           0.593,
           55.403,
           0.713,
           -0.028,
           0.846
          ],
          [
           9.367,
           0.726,
           63.503,
           0.732,
           -0.183,
           0.58
          ],
          [
           7.673,
           0.595,
           57.449,
           0.657,
           0.024,
           0.74
          ],
          [
           9.13,
           0.729,
           67.6,
           0.77,
           -0.15,
           0.687
          ],
          [
           7.739,
           0.782,
           60.698,
           0.72,
           0.273,
           0.789
          ],
          [
           7.277,
           0.596,
           56.7,
           0.735,
           0.154,
           0.83
          ],
          [
           8.759,
           0.608,
           60.777,
           0.897,
           0.072,
           0.774
          ],
          [
           7.29,
           0.65,
           58.05,
           0.522,
           0.075,
           0.742
          ],
          [
           8.074,
           0.694,
           55.032,
           0.791,
           0.098,
           0.818
          ],
          [
           7.857,
           0.653,
           59.401,
           0.838,
           0.182,
           0.554
          ],
          [
           8.075,
           0.471,
           59.425,
           0.47,
           -0.014,
           0.727
          ],
          [
           7.302,
           0.531,
           58.475,
           0.75,
           0.005,
           0.749
          ],
          [
           9.629,
           0.753,
           54.725,
           0.742,
           -0.215,
           0.83
          ],
          [
           7.007,
           0.652,
           55.375,
           0.664,
           0.086,
           0.834
          ],
          [
           7.641,
           0.69,
           54.05,
           0.654,
           -0.046,
           0.766
          ],
          [
           7.394,
           0.555,
           54.9,
           0.66,
           0.105,
           0.858
          ],
          [
           9.478,
           0.53,
           66.149,
           0.474,
           -0.141,
           0.891
          ],
          [
           7.324,
           0.341,
           54.712,
           0.382,
           -0.081,
           0.847
          ]
         ],
         "geo": "geo",
         "hovertemplate": "<b>%{hovertext}</b><br><br>Country name=%{location}<br>Logged GDP per capita=%{customdata[0]}<br>Social support=%{customdata[1]}<br>Healthy life expectancy=%{customdata[2]}<br>Freedom to make life choices=%{customdata[3]}<br>Generosity=%{customdata[4]}<br>Perceptions of corruption=%{customdata[5]}<br>Ladder score=%{z}<extra></extra>",
         "hovertext": [
          "Finland",
          "Denmark",
          "Iceland",
          "Israel",
          "Netherlands",
          "Sweden",
          "Norway",
          "Switzerland",
          "Luxembourg",
          "New Zealand",
          "Austria",
          "Australia",
          "Canada",
          "Ireland",
          "United States",
          "Germany",
          "Belgium",
          "Czechia",
          "United Kingdom",
          "Lithuania",
          "France",
          "Slovenia",
          "Costa Rica",
          "Romania",
          "Singapore",
          "United Arab Emirates",
          "Taiwan Province of China",
          "Uruguay",
          "Slovakia",
          "Saudi Arabia",
          "Estonia",
          "Spain",
          "Italy",
          "Kosovo",
          "Chile",
          "Mexico",
          "Malta",
          "Panama",
          "Poland",
          "Nicaragua",
          "Latvia",
          "Bahrain",
          "Guatemala",
          "Kazakhstan",
          "Serbia",
          "Cyprus",
          "Japan",
          "Croatia",
          "Brazil",
          "El Salvador",
          "Hungary",
          "Argentina",
          "Honduras",
          "Uzbekistan",
          "Malaysia",
          "Portugal",
          "South Korea",
          "Greece",
          "Mauritius",
          "Thailand",
          "Mongolia",
          "Kyrgyzstan",
          "Moldova",
          "China",
          "Vietnam",
          "Paraguay",
          "Montenegro",
          "Jamaica",
          "Bolivia",
          "Russia",
          "Bosnia and Herzegovina",
          "Colombia",
          "Dominican Republic",
          "Ecuador",
          "Peru",
          "Philippines",
          "Bulgaria",
          "Nepal",
          "Armenia",
          "Tajikistan",
          "Algeria",
          "Hong Kong S.A.R. of China",
          "Albania",
          "Indonesia",
          "South Africa",
          "Congo (Brazzaville)",
          "North Macedonia",
          "Venezuela",
          "Laos",
          "Georgia",
          "Guinea",
          "Ukraine",
          "Ivory Coast",
          "Gabon",
          "Nigeria",
          "Cameroon",
          "Mozambique",
          "Iraq",
          "State of Palestine",
          "Morocco",
          "Iran",
          "Senegal",
          "Mauritania",
          "Burkina Faso",
          "Namibia",
          "Turkiye",
          "Ghana",
          "Pakistan",
          "Niger",
          "Tunisia",
          "Kenya",
          "Sri Lanka",
          "Uganda",
          "Chad",
          "Cambodia",
          "Benin",
          "Myanmar",
          "Bangladesh",
          "Gambia",
          "Mali",
          "Egypt",
          "Togo",
          "Jordan",
          "Ethiopia",
          "Liberia",
          "India",
          "Madagascar",
          "Zambia",
          "Tanzania",
          "Comoros",
          "Malawi",
          "Botswana",
          "Congo (Kinshasa)",
          "Zimbabwe",
          "Sierra Leone",
          "Lebanon",
          "Afghanistan"
         ],
         "locationmode": "country names",
         "locations": [
          "Finland",
          "Denmark",
          "Iceland",
          "Israel",
          "Netherlands",
          "Sweden",
          "Norway",
          "Switzerland",
          "Luxembourg",
          "New Zealand",
          "Austria",
          "Australia",
          "Canada",
          "Ireland",
          "United States",
          "Germany",
          "Belgium",
          "Czechia",
          "United Kingdom",
          "Lithuania",
          "France",
          "Slovenia",
          "Costa Rica",
          "Romania",
          "Singapore",
          "United Arab Emirates",
          "Taiwan Province of China",
          "Uruguay",
          "Slovakia",
          "Saudi Arabia",
          "Estonia",
          "Spain",
          "Italy",
          "Kosovo",
          "Chile",
          "Mexico",
          "Malta",
          "Panama",
          "Poland",
          "Nicaragua",
          "Latvia",
          "Bahrain",
          "Guatemala",
          "Kazakhstan",
          "Serbia",
          "Cyprus",
          "Japan",
          "Croatia",
          "Brazil",
          "El Salvador",
          "Hungary",
          "Argentina",
          "Honduras",
          "Uzbekistan",
          "Malaysia",
          "Portugal",
          "South Korea",
          "Greece",
          "Mauritius",
          "Thailand",
          "Mongolia",
          "Kyrgyzstan",
          "Moldova",
          "China",
          "Vietnam",
          "Paraguay",
          "Montenegro",
          "Jamaica",
          "Bolivia",
          "Russia",
          "Bosnia and Herzegovina",
          "Colombia",
          "Dominican Republic",
          "Ecuador",
          "Peru",
          "Philippines",
          "Bulgaria",
          "Nepal",
          "Armenia",
          "Tajikistan",
          "Algeria",
          "Hong Kong S.A.R. of China",
          "Albania",
          "Indonesia",
          "South Africa",
          "Congo (Brazzaville)",
          "North Macedonia",
          "Venezuela",
          "Laos",
          "Georgia",
          "Guinea",
          "Ukraine",
          "Ivory Coast",
          "Gabon",
          "Nigeria",
          "Cameroon",
          "Mozambique",
          "Iraq",
          "State of Palestine",
          "Morocco",
          "Iran",
          "Senegal",
          "Mauritania",
          "Burkina Faso",
          "Namibia",
          "Turkiye",
          "Ghana",
          "Pakistan",
          "Niger",
          "Tunisia",
          "Kenya",
          "Sri Lanka",
          "Uganda",
          "Chad",
          "Cambodia",
          "Benin",
          "Myanmar",
          "Bangladesh",
          "Gambia",
          "Mali",
          "Egypt",
          "Togo",
          "Jordan",
          "Ethiopia",
          "Liberia",
          "India",
          "Madagascar",
          "Zambia",
          "Tanzania",
          "Comoros",
          "Malawi",
          "Botswana",
          "Congo (Kinshasa)",
          "Zimbabwe",
          "Sierra Leone",
          "Lebanon",
          "Afghanistan"
         ],
         "name": "",
         "type": "choropleth",
         "z": [
          7.804,
          7.586,
          7.53,
          7.473,
          7.403,
          7.395,
          7.315,
          7.24,
          7.228,
          7.123,
          7.097,
          7.095,
          6.961,
          6.911,
          6.894,
          6.892,
          6.859,
          6.845,
          6.796,
          6.763,
          6.661,
          6.65,
          6.609,
          6.589,
          6.587,
          6.571,
          6.535,
          6.494,
          6.469,
          6.463,
          6.455,
          6.436,
          6.405,
          6.368,
          6.334,
          6.33,
          6.3,
          6.265,
          6.26,
          6.259,
          6.213,
          6.173,
          6.15,
          6.144,
          6.144,
          6.13,
          6.129,
          6.125,
          6.125,
          6.122,
          6.041,
          6.024,
          6.023,
          6.014,
          6.012,
          5.968,
          5.951,
          5.931,
          5.902,
          5.843,
          5.84,
          5.825,
          5.819,
          5.818,
          5.763,
          5.738,
          5.722,
          5.703,
          5.684,
          5.661,
          5.633,
          5.63,
          5.569,
          5.559,
          5.526,
          5.523,
          5.466,
          5.36,
          5.342,
          5.33,
          5.329,
          5.308,
          5.277,
          5.277,
          5.275,
          5.267,
          5.254,
          5.211,
          5.111,
          5.109,
          5.072,
          5.071,
          5.053,
          5.035,
          4.981,
          4.973,
          4.954,
          4.941,
          4.908,
          4.903,
          4.876,
          4.855,
          4.724,
          4.638,
          4.631,
          4.614,
          4.605,
          4.555,
          4.501,
          4.497,
          4.487,
          4.442,
          4.432,
          4.397,
          4.393,
          4.374,
          4.372,
          4.282,
          4.279,
          4.198,
          4.17,
          4.137,
          4.12,
          4.091,
          4.042,
          4.036,
          4.019,
          3.982,
          3.694,
          3.545,
          3.495,
          3.435,
          3.207,
          3.204,
          3.138,
          2.392,
          1.859
         ]
        }
       ],
       "layout": {
        "coloraxis": {
         "colorbar": {
          "title": {
           "text": "Ladder score"
          }
         },
         "colorscale": [
          [
           0,
           "#0d0887"
          ],
          [
           0.1111111111111111,
           "#46039f"
          ],
          [
           0.2222222222222222,
           "#7201a8"
          ],
          [
           0.3333333333333333,
           "#9c179e"
          ],
          [
           0.4444444444444444,
           "#bd3786"
          ],
          [
           0.5555555555555556,
           "#d8576b"
          ],
          [
           0.6666666666666666,
           "#ed7953"
          ],
          [
           0.7777777777777778,
           "#fb9f3a"
          ],
          [
           0.8888888888888888,
           "#fdca26"
          ],
          [
           1,
           "#f0f921"
          ]
         ]
        },
        "geo": {
         "center": {},
         "domain": {
          "x": [
           0,
           1
          ],
          "y": [
           0,
           1
          ]
         }
        },
        "legend": {
         "tracegroupgap": 0
        },
        "template": {
         "data": {
          "bar": [
           {
            "error_x": {
             "color": "#2a3f5f"
            },
            "error_y": {
             "color": "#2a3f5f"
            },
            "marker": {
             "line": {
              "color": "#E5ECF6",
              "width": 0.5
             },
             "pattern": {
              "fillmode": "overlay",
              "size": 10,
              "solidity": 0.2
             }
            },
            "type": "bar"
           }
          ],
          "barpolar": [
           {
            "marker": {
             "line": {
              "color": "#E5ECF6",
              "width": 0.5
             },
             "pattern": {
              "fillmode": "overlay",
              "size": 10,
              "solidity": 0.2
             }
            },
            "type": "barpolar"
           }
          ],
          "carpet": [
           {
            "aaxis": {
             "endlinecolor": "#2a3f5f",
             "gridcolor": "white",
             "linecolor": "white",
             "minorgridcolor": "white",
             "startlinecolor": "#2a3f5f"
            },
            "baxis": {
             "endlinecolor": "#2a3f5f",
             "gridcolor": "white",
             "linecolor": "white",
             "minorgridcolor": "white",
             "startlinecolor": "#2a3f5f"
            },
            "type": "carpet"
           }
          ],
          "choropleth": [
           {
            "colorbar": {
             "outlinewidth": 0,
             "ticks": ""
            },
            "type": "choropleth"
           }
          ],
          "contour": [
           {
            "colorbar": {
             "outlinewidth": 0,
             "ticks": ""
            },
            "colorscale": [
             [
              0,
              "#0d0887"
             ],
             [
              0.1111111111111111,
              "#46039f"
             ],
             [
              0.2222222222222222,
              "#7201a8"
             ],
             [
              0.3333333333333333,
              "#9c179e"
             ],
             [
              0.4444444444444444,
              "#bd3786"
             ],
             [
              0.5555555555555556,
              "#d8576b"
             ],
             [
              0.6666666666666666,
              "#ed7953"
             ],
             [
              0.7777777777777778,
              "#fb9f3a"
             ],
             [
              0.8888888888888888,
              "#fdca26"
             ],
             [
              1,
              "#f0f921"
             ]
            ],
            "type": "contour"
           }
          ],
          "contourcarpet": [
           {
            "colorbar": {
             "outlinewidth": 0,
             "ticks": ""
            },
            "type": "contourcarpet"
           }
          ],
          "heatmap": [
           {
            "colorbar": {
             "outlinewidth": 0,
             "ticks": ""
            },
            "colorscale": [
             [
              0,
              "#0d0887"
             ],
             [
              0.1111111111111111,
              "#46039f"
             ],
             [
              0.2222222222222222,
              "#7201a8"
             ],
             [
              0.3333333333333333,
              "#9c179e"
             ],
             [
              0.4444444444444444,
              "#bd3786"
             ],
             [
              0.5555555555555556,
              "#d8576b"
             ],
             [
              0.6666666666666666,
              "#ed7953"
             ],
             [
              0.7777777777777778,
              "#fb9f3a"
             ],
             [
              0.8888888888888888,
              "#fdca26"
             ],
             [
              1,
              "#f0f921"
             ]
            ],
            "type": "heatmap"
           }
          ],
          "heatmapgl": [
           {
            "colorbar": {
             "outlinewidth": 0,
             "ticks": ""
            },
            "colorscale": [
             [
              0,
              "#0d0887"
             ],
             [
              0.1111111111111111,
              "#46039f"
             ],
             [
              0.2222222222222222,
              "#7201a8"
             ],
             [
              0.3333333333333333,
              "#9c179e"
             ],
             [
              0.4444444444444444,
              "#bd3786"
             ],
             [
              0.5555555555555556,
              "#d8576b"
             ],
             [
              0.6666666666666666,
              "#ed7953"
             ],
             [
              0.7777777777777778,
              "#fb9f3a"
             ],
             [
              0.8888888888888888,
              "#fdca26"
             ],
             [
              1,
              "#f0f921"
             ]
            ],
            "type": "heatmapgl"
           }
          ],
          "histogram": [
           {
            "marker": {
             "pattern": {
              "fillmode": "overlay",
              "size": 10,
              "solidity": 0.2
             }
            },
            "type": "histogram"
           }
          ],
          "histogram2d": [
           {
            "colorbar": {
             "outlinewidth": 0,
             "ticks": ""
            },
            "colorscale": [
             [
              0,
              "#0d0887"
             ],
             [
              0.1111111111111111,
              "#46039f"
             ],
             [
              0.2222222222222222,
              "#7201a8"
             ],
             [
              0.3333333333333333,
              "#9c179e"
             ],
             [
              0.4444444444444444,
              "#bd3786"
             ],
             [
              0.5555555555555556,
              "#d8576b"
             ],
             [
              0.6666666666666666,
              "#ed7953"
             ],
             [
              0.7777777777777778,
              "#fb9f3a"
             ],
             [
              0.8888888888888888,
              "#fdca26"
             ],
             [
              1,
              "#f0f921"
             ]
            ],
            "type": "histogram2d"
           }
          ],
          "histogram2dcontour": [
           {
            "colorbar": {
             "outlinewidth": 0,
             "ticks": ""
            },
            "colorscale": [
             [
              0,
              "#0d0887"
             ],
             [
              0.1111111111111111,
              "#46039f"
             ],
             [
              0.2222222222222222,
              "#7201a8"
             ],
             [
              0.3333333333333333,
              "#9c179e"
             ],
             [
              0.4444444444444444,
              "#bd3786"
             ],
             [
              0.5555555555555556,
              "#d8576b"
             ],
             [
              0.6666666666666666,
              "#ed7953"
             ],
             [
              0.7777777777777778,
              "#fb9f3a"
             ],
             [
              0.8888888888888888,
              "#fdca26"
             ],
             [
              1,
              "#f0f921"
             ]
            ],
            "type": "histogram2dcontour"
           }
          ],
          "mesh3d": [
           {
            "colorbar": {
             "outlinewidth": 0,
             "ticks": ""
            },
            "type": "mesh3d"
           }
          ],
          "parcoords": [
           {
            "line": {
             "colorbar": {
              "outlinewidth": 0,
              "ticks": ""
             }
            },
            "type": "parcoords"
           }
          ],
          "pie": [
           {
            "automargin": true,
            "type": "pie"
           }
          ],
          "scatter": [
           {
            "fillpattern": {
             "fillmode": "overlay",
             "size": 10,
             "solidity": 0.2
            },
            "type": "scatter"
           }
          ],
          "scatter3d": [
           {
            "line": {
             "colorbar": {
              "outlinewidth": 0,
              "ticks": ""
             }
            },
            "marker": {
             "colorbar": {
              "outlinewidth": 0,
              "ticks": ""
             }
            },
            "type": "scatter3d"
           }
          ],
          "scattercarpet": [
           {
            "marker": {
             "colorbar": {
              "outlinewidth": 0,
              "ticks": ""
             }
            },
            "type": "scattercarpet"
           }
          ],
          "scattergeo": [
           {
            "marker": {
             "colorbar": {
              "outlinewidth": 0,
              "ticks": ""
             }
            },
            "type": "scattergeo"
           }
          ],
          "scattergl": [
           {
            "marker": {
             "colorbar": {
              "outlinewidth": 0,
              "ticks": ""
             }
            },
            "type": "scattergl"
           }
          ],
          "scattermapbox": [
           {
            "marker": {
             "colorbar": {
              "outlinewidth": 0,
              "ticks": ""
             }
            },
            "type": "scattermapbox"
           }
          ],
          "scatterpolar": [
           {
            "marker": {
             "colorbar": {
              "outlinewidth": 0,
              "ticks": ""
             }
            },
            "type": "scatterpolar"
           }
          ],
          "scatterpolargl": [
           {
            "marker": {
             "colorbar": {
              "outlinewidth": 0,
              "ticks": ""
             }
            },
            "type": "scatterpolargl"
           }
          ],
          "scatterternary": [
           {
            "marker": {
             "colorbar": {
              "outlinewidth": 0,
              "ticks": ""
             }
            },
            "type": "scatterternary"
           }
          ],
          "surface": [
           {
            "colorbar": {
             "outlinewidth": 0,
             "ticks": ""
            },
            "colorscale": [
             [
              0,
              "#0d0887"
             ],
             [
              0.1111111111111111,
              "#46039f"
             ],
             [
              0.2222222222222222,
              "#7201a8"
             ],
             [
              0.3333333333333333,
              "#9c179e"
             ],
             [
              0.4444444444444444,
              "#bd3786"
             ],
             [
              0.5555555555555556,
              "#d8576b"
             ],
             [
              0.6666666666666666,
              "#ed7953"
             ],
             [
              0.7777777777777778,
              "#fb9f3a"
             ],
             [
              0.8888888888888888,
              "#fdca26"
             ],
             [
              1,
              "#f0f921"
             ]
            ],
            "type": "surface"
           }
          ],
          "table": [
           {
            "cells": {
             "fill": {
              "color": "#EBF0F8"
             },
             "line": {
              "color": "white"
             }
            },
            "header": {
             "fill": {
              "color": "#C8D4E3"
             },
             "line": {
              "color": "white"
             }
            },
            "type": "table"
           }
          ]
         },
         "layout": {
          "annotationdefaults": {
           "arrowcolor": "#2a3f5f",
           "arrowhead": 0,
           "arrowwidth": 1
          },
          "autotypenumbers": "strict",
          "coloraxis": {
           "colorbar": {
            "outlinewidth": 0,
            "ticks": ""
           }
          },
          "colorscale": {
           "diverging": [
            [
             0,
             "#8e0152"
            ],
            [
             0.1,
             "#c51b7d"
            ],
            [
             0.2,
             "#de77ae"
            ],
            [
             0.3,
             "#f1b6da"
            ],
            [
             0.4,
             "#fde0ef"
            ],
            [
             0.5,
             "#f7f7f7"
            ],
            [
             0.6,
             "#e6f5d0"
            ],
            [
             0.7,
             "#b8e186"
            ],
            [
             0.8,
             "#7fbc41"
            ],
            [
             0.9,
             "#4d9221"
            ],
            [
             1,
             "#276419"
            ]
           ],
           "sequential": [
            [
             0,
             "#0d0887"
            ],
            [
             0.1111111111111111,
             "#46039f"
            ],
            [
             0.2222222222222222,
             "#7201a8"
            ],
            [
             0.3333333333333333,
             "#9c179e"
            ],
            [
             0.4444444444444444,
             "#bd3786"
            ],
            [
             0.5555555555555556,
             "#d8576b"
            ],
            [
             0.6666666666666666,
             "#ed7953"
            ],
            [
             0.7777777777777778,
             "#fb9f3a"
            ],
            [
             0.8888888888888888,
             "#fdca26"
            ],
            [
             1,
             "#f0f921"
            ]
           ],
           "sequentialminus": [
            [
             0,
             "#0d0887"
            ],
            [
             0.1111111111111111,
             "#46039f"
            ],
            [
             0.2222222222222222,
             "#7201a8"
            ],
            [
             0.3333333333333333,
             "#9c179e"
            ],
            [
             0.4444444444444444,
             "#bd3786"
            ],
            [
             0.5555555555555556,
             "#d8576b"
            ],
            [
             0.6666666666666666,
             "#ed7953"
            ],
            [
             0.7777777777777778,
             "#fb9f3a"
            ],
            [
             0.8888888888888888,
             "#fdca26"
            ],
            [
             1,
             "#f0f921"
            ]
           ]
          },
          "colorway": [
           "#636efa",
           "#EF553B",
           "#00cc96",
           "#ab63fa",
           "#FFA15A",
           "#19d3f3",
           "#FF6692",
           "#B6E880",
           "#FF97FF",
           "#FECB52"
          ],
          "font": {
           "color": "#2a3f5f"
          },
          "geo": {
           "bgcolor": "white",
           "lakecolor": "white",
           "landcolor": "#E5ECF6",
           "showlakes": true,
           "showland": true,
           "subunitcolor": "white"
          },
          "hoverlabel": {
           "align": "left"
          },
          "hovermode": "closest",
          "mapbox": {
           "style": "light"
          },
          "paper_bgcolor": "white",
          "plot_bgcolor": "#E5ECF6",
          "polar": {
           "angularaxis": {
            "gridcolor": "white",
            "linecolor": "white",
            "ticks": ""
           },
           "bgcolor": "#E5ECF6",
           "radialaxis": {
            "gridcolor": "white",
            "linecolor": "white",
            "ticks": ""
           }
          },
          "scene": {
           "xaxis": {
            "backgroundcolor": "#E5ECF6",
            "gridcolor": "white",
            "gridwidth": 2,
            "linecolor": "white",
            "showbackground": true,
            "ticks": "",
            "zerolinecolor": "white"
           },
           "yaxis": {
            "backgroundcolor": "#E5ECF6",
            "gridcolor": "white",
            "gridwidth": 2,
            "linecolor": "white",
            "showbackground": true,
            "ticks": "",
            "zerolinecolor": "white"
           },
           "zaxis": {
            "backgroundcolor": "#E5ECF6",
            "gridcolor": "white",
            "gridwidth": 2,
            "linecolor": "white",
            "showbackground": true,
            "ticks": "",
            "zerolinecolor": "white"
           }
          },
          "shapedefaults": {
           "line": {
            "color": "#2a3f5f"
           }
          },
          "ternary": {
           "aaxis": {
            "gridcolor": "white",
            "linecolor": "white",
            "ticks": ""
           },
           "baxis": {
            "gridcolor": "white",
            "linecolor": "white",
            "ticks": ""
           },
           "bgcolor": "#E5ECF6",
           "caxis": {
            "gridcolor": "white",
            "linecolor": "white",
            "ticks": ""
           }
          },
          "title": {
           "x": 0.05
          },
          "xaxis": {
           "automargin": true,
           "gridcolor": "white",
           "linecolor": "white",
           "ticks": "",
           "title": {
            "standoff": 15
           },
           "zerolinecolor": "white",
           "zerolinewidth": 2
          },
          "yaxis": {
           "automargin": true,
           "gridcolor": "white",
           "linecolor": "white",
           "ticks": "",
           "title": {
            "standoff": 15
           },
           "zerolinecolor": "white",
           "zerolinewidth": 2
          }
         }
        },
        "title": {
         "text": "World Happiness Index"
        }
       }
      }
     },
     "metadata": {},
     "output_type": "display_data"
    }
   ],
   "source": [
    "import plotly.express as px\n",
    "\n",
    "# 'Country name' is the name of the country\n",
    "# 'Ladder score' is the main data to be visualized on the map\n",
    "\n",
    "fig = px.choropleth(data_frame=df,\n",
    "                    locations='Country name',\n",
    "                    locationmode='country names',\n",
    "                    color='Ladder score',\n",
    "                    hover_name='Country name',\n",
    "                    hover_data=['Logged GDP per capita', 'Social support', 'Healthy life expectancy',\n",
    "                                'Freedom to make life choices', 'Generosity', 'Perceptions of corruption'],\n",
    "                    title='World Happiness Index',\n",
    "                    color_continuous_scale=px.colors.sequential.Plasma)\n",
    "\n",
    "fig.show()\n",
    "fig.write_html(\"WHI2023.html\")"
   ]
  },
  {
   "cell_type": "code",
   "execution_count": null,
   "metadata": {},
   "outputs": [],
   "source": []
  }
 ],
 "metadata": {
  "kernelspec": {
   "display_name": "Python 3",
   "language": "python",
   "name": "python3"
  },
  "language_info": {
   "codemirror_mode": {
    "name": "ipython",
    "version": 3
   },
   "file_extension": ".py",
   "mimetype": "text/x-python",
   "name": "python",
   "nbconvert_exporter": "python",
   "pygments_lexer": "ipython3",
   "version": "3.10.9"
  },
  "orig_nbformat": 4
 },
 "nbformat": 4,
 "nbformat_minor": 2
}
