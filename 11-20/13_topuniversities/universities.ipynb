{
 "cells": [
  {
   "cell_type": "markdown",
   "metadata": {},
   "source": [
    "### Import libraries"
   ]
  },
  {
   "cell_type": "code",
   "execution_count": 165,
   "metadata": {},
   "outputs": [
    {
     "data": {
      "text/html": [
       "        <script type=\"text/javascript\">\n",
       "        window.PlotlyConfig = {MathJaxConfig: 'local'};\n",
       "        if (window.MathJax && window.MathJax.Hub && window.MathJax.Hub.Config) {window.MathJax.Hub.Config({SVG: {font: \"STIX-Web\"}});}\n",
       "        if (typeof require !== 'undefined') {\n",
       "        require.undef(\"plotly\");\n",
       "        requirejs.config({\n",
       "            paths: {\n",
       "                'plotly': ['https://cdn.plot.ly/plotly-2.18.0.min']\n",
       "            }\n",
       "        });\n",
       "        require(['plotly'], function(Plotly) {\n",
       "            window._Plotly = Plotly;\n",
       "        });\n",
       "        }\n",
       "        </script>\n",
       "        "
      ]
     },
     "metadata": {},
     "output_type": "display_data"
    }
   ],
   "source": [
    "import plotly.graph_objs as go\n",
    "from plotly.offline import init_notebook_mode, iplot, plot\n",
    "init_notebook_mode(connected=True)\n",
    "import pandas as pd\n",
    "import numpy as np\n",
    "\n",
    "import chart_studio\n",
    "import chart_studio.plotly as py \n",
    "import plotly.express as px\n",
    "\n",
    "import matplotlib.pyplot as plt\n",
    "import matplotlib as mpl\n",
    "from matplotlib.ticker import MaxNLocator"
   ]
  },
  {
   "cell_type": "markdown",
   "metadata": {},
   "source": [
    "# 1. Load Dataset"
   ]
  },
  {
   "cell_type": "code",
   "execution_count": 186,
   "metadata": {},
   "outputs": [
    {
     "data": {
      "text/html": [
       "<div>\n",
       "<style scoped>\n",
       "    .dataframe tbody tr th:only-of-type {\n",
       "        vertical-align: middle;\n",
       "    }\n",
       "\n",
       "    .dataframe tbody tr th {\n",
       "        vertical-align: top;\n",
       "    }\n",
       "\n",
       "    .dataframe thead th {\n",
       "        text-align: right;\n",
       "    }\n",
       "</style>\n",
       "<table border=\"1\" class=\"dataframe\">\n",
       "  <thead>\n",
       "    <tr style=\"text-align: right;\">\n",
       "      <th></th>\n",
       "      <th>Rank</th>\n",
       "      <th>University name</th>\n",
       "      <th>locationLocation</th>\n",
       "      <th>Number of Studnet</th>\n",
       "      <th>Number of student per staffs</th>\n",
       "      <th>International Student</th>\n",
       "      <th>Female : male ratio</th>\n",
       "    </tr>\n",
       "  </thead>\n",
       "  <tbody>\n",
       "    <tr>\n",
       "      <th>0</th>\n",
       "      <td>1</td>\n",
       "      <td>University of Oxford</td>\n",
       "      <td>United Kingdom</td>\n",
       "      <td>20,965</td>\n",
       "      <td>10.6</td>\n",
       "      <td>42%</td>\n",
       "      <td>48 : 52</td>\n",
       "    </tr>\n",
       "    <tr>\n",
       "      <th>1</th>\n",
       "      <td>2</td>\n",
       "      <td>Harvard University</td>\n",
       "      <td>United States</td>\n",
       "      <td>21,887</td>\n",
       "      <td>9.6</td>\n",
       "      <td>25%</td>\n",
       "      <td>50 : 50</td>\n",
       "    </tr>\n",
       "    <tr>\n",
       "      <th>2</th>\n",
       "      <td>3</td>\n",
       "      <td>University of Cambridge</td>\n",
       "      <td>United Kingdom</td>\n",
       "      <td>20,185</td>\n",
       "      <td>11.3</td>\n",
       "      <td>39%</td>\n",
       "      <td>47 : 53</td>\n",
       "    </tr>\n",
       "    <tr>\n",
       "      <th>3</th>\n",
       "      <td>3</td>\n",
       "      <td>Stanford University</td>\n",
       "      <td>United States</td>\n",
       "      <td>16,164</td>\n",
       "      <td>7.1</td>\n",
       "      <td>24%</td>\n",
       "      <td>46 : 54</td>\n",
       "    </tr>\n",
       "    <tr>\n",
       "      <th>4</th>\n",
       "      <td>5</td>\n",
       "      <td>Massachusetts Institute of Technology</td>\n",
       "      <td>United States</td>\n",
       "      <td>11,415</td>\n",
       "      <td>8.2</td>\n",
       "      <td>33%</td>\n",
       "      <td>40 : 60</td>\n",
       "    </tr>\n",
       "    <tr>\n",
       "      <th>5</th>\n",
       "      <td>6</td>\n",
       "      <td>California Institute of Technology</td>\n",
       "      <td>United States</td>\n",
       "      <td>2,237</td>\n",
       "      <td>6.2</td>\n",
       "      <td>34%</td>\n",
       "      <td>37 : 63</td>\n",
       "    </tr>\n",
       "    <tr>\n",
       "      <th>6</th>\n",
       "      <td>7</td>\n",
       "      <td>Princeton University</td>\n",
       "      <td>United States</td>\n",
       "      <td>8,279</td>\n",
       "      <td>8.0</td>\n",
       "      <td>23%</td>\n",
       "      <td>46 : 54</td>\n",
       "    </tr>\n",
       "    <tr>\n",
       "      <th>7</th>\n",
       "      <td>8</td>\n",
       "      <td>University of California, Berkeley</td>\n",
       "      <td>United States</td>\n",
       "      <td>40,921</td>\n",
       "      <td>18.4</td>\n",
       "      <td>24%</td>\n",
       "      <td>52 : 48</td>\n",
       "    </tr>\n",
       "    <tr>\n",
       "      <th>8</th>\n",
       "      <td>9</td>\n",
       "      <td>Yale University</td>\n",
       "      <td>United States</td>\n",
       "      <td>13,482</td>\n",
       "      <td>5.9</td>\n",
       "      <td>21%</td>\n",
       "      <td>52 : 48</td>\n",
       "    </tr>\n",
       "    <tr>\n",
       "      <th>9</th>\n",
       "      <td>10</td>\n",
       "      <td>Imperial College London</td>\n",
       "      <td>United Kingdom</td>\n",
       "      <td>18,545</td>\n",
       "      <td>11.2</td>\n",
       "      <td>61%</td>\n",
       "      <td>40 : 60</td>\n",
       "    </tr>\n",
       "  </tbody>\n",
       "</table>\n",
       "</div>"
      ],
      "text/plain": [
       "  Rank                        University name locationLocation  \\\n",
       "0    1                   University of Oxford   United Kingdom   \n",
       "1    2                     Harvard University    United States   \n",
       "2    3                University of Cambridge   United Kingdom   \n",
       "3    3                    Stanford University    United States   \n",
       "4    5  Massachusetts Institute of Technology    United States   \n",
       "5    6     California Institute of Technology    United States   \n",
       "6    7                   Princeton University    United States   \n",
       "7    8     University of California, Berkeley    United States   \n",
       "8    9                        Yale University    United States   \n",
       "9   10                Imperial College London   United Kingdom   \n",
       "\n",
       "  Number of Studnet  Number of student per staffs International Student  \\\n",
       "0            20,965                          10.6                   42%   \n",
       "1            21,887                           9.6                   25%   \n",
       "2            20,185                          11.3                   39%   \n",
       "3            16,164                           7.1                   24%   \n",
       "4            11,415                           8.2                   33%   \n",
       "5             2,237                           6.2                   34%   \n",
       "6             8,279                           8.0                   23%   \n",
       "7            40,921                          18.4                   24%   \n",
       "8            13,482                           5.9                   21%   \n",
       "9            18,545                          11.2                   61%   \n",
       "\n",
       "  Female : male ratio  \n",
       "0             48 : 52  \n",
       "1             50 : 50  \n",
       "2             47 : 53  \n",
       "3             46 : 54  \n",
       "4             40 : 60  \n",
       "5             37 : 63  \n",
       "6             46 : 54  \n",
       "7             52 : 48  \n",
       "8             52 : 48  \n",
       "9             40 : 60  "
      ]
     },
     "execution_count": 186,
     "metadata": {},
     "output_type": "execute_result"
    }
   ],
   "source": [
    "df = pd.read_csv(\"world_university_rank.csv\")\n",
    "df.head(10)"
   ]
  },
  {
   "cell_type": "markdown",
   "metadata": {},
   "source": [
    "# 2. Data Cleaning"
   ]
  },
  {
   "cell_type": "code",
   "execution_count": 176,
   "metadata": {},
   "outputs": [
    {
     "name": "stdout",
     "output_type": "stream",
     "text": [
      "<class 'pandas.core.frame.DataFrame'>\n",
      "RangeIndex: 2345 entries, 0 to 2344\n",
      "Data columns (total 7 columns):\n",
      " #   Column                        Non-Null Count  Dtype  \n",
      "---  ------                        --------------  -----  \n",
      " 0   Rank                          2345 non-null   object \n",
      " 1   University name               2345 non-null   object \n",
      " 2   locationLocation              2234 non-null   object \n",
      " 3   Number of Studnet             2345 non-null   object \n",
      " 4   Number of student per staffs  2344 non-null   float64\n",
      " 5   International Student         2345 non-null   object \n",
      " 6   Female : male ratio           2255 non-null   object \n",
      "dtypes: float64(1), object(6)\n",
      "memory usage: 128.4+ KB\n"
     ]
    }
   ],
   "source": [
    "# Basics (check mmisisng values, data types, df shape etc.)\n",
    "df.info()"
   ]
  },
  {
   "cell_type": "markdown",
   "metadata": {},
   "source": [
    "111 missing value for `location`, 1 missing value for `number of student per staffs` and around 200+ missing values for `female : male ratio`. Let's find out what they are, but before that let's fix the column names to something readable by python syntax."
   ]
  },
  {
   "cell_type": "code",
   "execution_count": 187,
   "metadata": {},
   "outputs": [],
   "source": [
    "df.rename(columns = {'University name': 'university_name', 'locationLocation' : 'location', 'Number of Studnet': 'number_of_students',\n",
    "                      'Number of student per staffs': 'number_of_students_per_staff', 'International Student': 'international_student',\n",
    "                      'Female : male ratio': 'female_male_ratio'}, inplace=True)"
   ]
  },
  {
   "cell_type": "markdown",
   "metadata": {},
   "source": [
    "We drop the rows with missing values in the dataframe. On top of that we need to change the data type for some of the columns. "
   ]
  },
  {
   "cell_type": "markdown",
   "metadata": {},
   "source": [
    "Since the rank are inconsistent at the end of the dataset, I think it's sensible to just look at the top 200 universities in the world."
   ]
  },
  {
   "cell_type": "code",
   "execution_count": 188,
   "metadata": {},
   "outputs": [],
   "source": [
    "df = df[:200]\n",
    "df.loc[df.index[-1], 'Rank'] = 200"
   ]
  },
  {
   "cell_type": "code",
   "execution_count": 198,
   "metadata": {},
   "outputs": [],
   "source": [
    "# Change rank data type\n",
    "df['Rank'] = df['Rank'].astype(int)\n",
    "\n",
    "# Remove commas from number of students then change data type\n",
    "df['number_of_students'] = df['number_of_students'].astype(str).str.replace(',', '').astype(int)\n",
    "\n",
    "# remove percentage from internation students and change data type\n",
    "df['international_student'] = df['international_student'].str.rstrip('%').astype(float) / 100"
   ]
  },
  {
   "cell_type": "code",
   "execution_count": 199,
   "metadata": {},
   "outputs": [
    {
     "data": {
      "text/html": [
       "<div>\n",
       "<style scoped>\n",
       "    .dataframe tbody tr th:only-of-type {\n",
       "        vertical-align: middle;\n",
       "    }\n",
       "\n",
       "    .dataframe tbody tr th {\n",
       "        vertical-align: top;\n",
       "    }\n",
       "\n",
       "    .dataframe thead th {\n",
       "        text-align: right;\n",
       "    }\n",
       "</style>\n",
       "<table border=\"1\" class=\"dataframe\">\n",
       "  <thead>\n",
       "    <tr style=\"text-align: right;\">\n",
       "      <th></th>\n",
       "      <th>Rank</th>\n",
       "      <th>university_name</th>\n",
       "      <th>location</th>\n",
       "      <th>number_of_students</th>\n",
       "      <th>number_of_students_per_staff</th>\n",
       "      <th>international_student</th>\n",
       "      <th>female_male_ratio</th>\n",
       "    </tr>\n",
       "  </thead>\n",
       "  <tbody>\n",
       "    <tr>\n",
       "      <th>0</th>\n",
       "      <td>1</td>\n",
       "      <td>University of Oxford</td>\n",
       "      <td>United Kingdom</td>\n",
       "      <td>20965</td>\n",
       "      <td>10.6</td>\n",
       "      <td>0.42</td>\n",
       "      <td>48 : 52</td>\n",
       "    </tr>\n",
       "    <tr>\n",
       "      <th>1</th>\n",
       "      <td>2</td>\n",
       "      <td>Harvard University</td>\n",
       "      <td>United States</td>\n",
       "      <td>21887</td>\n",
       "      <td>9.6</td>\n",
       "      <td>0.25</td>\n",
       "      <td>50 : 50</td>\n",
       "    </tr>\n",
       "    <tr>\n",
       "      <th>2</th>\n",
       "      <td>3</td>\n",
       "      <td>University of Cambridge</td>\n",
       "      <td>United Kingdom</td>\n",
       "      <td>20185</td>\n",
       "      <td>11.3</td>\n",
       "      <td>0.39</td>\n",
       "      <td>47 : 53</td>\n",
       "    </tr>\n",
       "    <tr>\n",
       "      <th>3</th>\n",
       "      <td>3</td>\n",
       "      <td>Stanford University</td>\n",
       "      <td>United States</td>\n",
       "      <td>16164</td>\n",
       "      <td>7.1</td>\n",
       "      <td>0.24</td>\n",
       "      <td>46 : 54</td>\n",
       "    </tr>\n",
       "    <tr>\n",
       "      <th>4</th>\n",
       "      <td>5</td>\n",
       "      <td>Massachusetts Institute of Technology</td>\n",
       "      <td>United States</td>\n",
       "      <td>11415</td>\n",
       "      <td>8.2</td>\n",
       "      <td>0.33</td>\n",
       "      <td>40 : 60</td>\n",
       "    </tr>\n",
       "    <tr>\n",
       "      <th>...</th>\n",
       "      <td>...</td>\n",
       "      <td>...</td>\n",
       "      <td>...</td>\n",
       "      <td>...</td>\n",
       "      <td>...</td>\n",
       "      <td>...</td>\n",
       "      <td>...</td>\n",
       "    </tr>\n",
       "    <tr>\n",
       "      <th>195</th>\n",
       "      <td>196</td>\n",
       "      <td>University of Erlangen-Nuremberg</td>\n",
       "      <td>Germany</td>\n",
       "      <td>30303</td>\n",
       "      <td>43.4</td>\n",
       "      <td>0.13</td>\n",
       "      <td>51 : 49</td>\n",
       "    </tr>\n",
       "    <tr>\n",
       "      <th>196</th>\n",
       "      <td>196</td>\n",
       "      <td>Sichuan University</td>\n",
       "      <td>China</td>\n",
       "      <td>49543</td>\n",
       "      <td>15.8</td>\n",
       "      <td>0.06</td>\n",
       "      <td>NaN</td>\n",
       "    </tr>\n",
       "    <tr>\n",
       "      <th>197</th>\n",
       "      <td>198</td>\n",
       "      <td>Durham University</td>\n",
       "      <td>United Kingdom</td>\n",
       "      <td>18425</td>\n",
       "      <td>14.1</td>\n",
       "      <td>0.35</td>\n",
       "      <td>54 : 46</td>\n",
       "    </tr>\n",
       "    <tr>\n",
       "      <th>198</th>\n",
       "      <td>198</td>\n",
       "      <td>Queen’s University Belfast</td>\n",
       "      <td>United Kingdom</td>\n",
       "      <td>19060</td>\n",
       "      <td>15.8</td>\n",
       "      <td>0.39</td>\n",
       "      <td>57 : 43</td>\n",
       "    </tr>\n",
       "    <tr>\n",
       "      <th>199</th>\n",
       "      <td>200</td>\n",
       "      <td>University of Reading</td>\n",
       "      <td>United Kingdom</td>\n",
       "      <td>15720</td>\n",
       "      <td>16.4</td>\n",
       "      <td>0.32</td>\n",
       "      <td>56 : 44</td>\n",
       "    </tr>\n",
       "  </tbody>\n",
       "</table>\n",
       "<p>200 rows × 7 columns</p>\n",
       "</div>"
      ],
      "text/plain": [
       "     Rank                        university_name        location  \\\n",
       "0       1                   University of Oxford  United Kingdom   \n",
       "1       2                     Harvard University   United States   \n",
       "2       3                University of Cambridge  United Kingdom   \n",
       "3       3                    Stanford University   United States   \n",
       "4       5  Massachusetts Institute of Technology   United States   \n",
       "..    ...                                    ...             ...   \n",
       "195   196       University of Erlangen-Nuremberg         Germany   \n",
       "196   196                     Sichuan University           China   \n",
       "197   198                      Durham University  United Kingdom   \n",
       "198   198             Queen’s University Belfast  United Kingdom   \n",
       "199   200                  University of Reading  United Kingdom   \n",
       "\n",
       "     number_of_students  number_of_students_per_staff  international_student  \\\n",
       "0                 20965                          10.6                   0.42   \n",
       "1                 21887                           9.6                   0.25   \n",
       "2                 20185                          11.3                   0.39   \n",
       "3                 16164                           7.1                   0.24   \n",
       "4                 11415                           8.2                   0.33   \n",
       "..                  ...                           ...                    ...   \n",
       "195               30303                          43.4                   0.13   \n",
       "196               49543                          15.8                   0.06   \n",
       "197               18425                          14.1                   0.35   \n",
       "198               19060                          15.8                   0.39   \n",
       "199               15720                          16.4                   0.32   \n",
       "\n",
       "    female_male_ratio  \n",
       "0             48 : 52  \n",
       "1             50 : 50  \n",
       "2             47 : 53  \n",
       "3             46 : 54  \n",
       "4             40 : 60  \n",
       "..                ...  \n",
       "195           51 : 49  \n",
       "196               NaN  \n",
       "197           54 : 46  \n",
       "198           57 : 43  \n",
       "199           56 : 44  \n",
       "\n",
       "[200 rows x 7 columns]"
      ]
     },
     "execution_count": 199,
     "metadata": {},
     "output_type": "execute_result"
    }
   ],
   "source": [
    "df_top200 = df.copy()\n",
    "df_top200"
   ]
  },
  {
   "cell_type": "markdown",
   "metadata": {},
   "source": [
    "Looks not bad! I guess we will just work with these 200 universities! "
   ]
  },
  {
   "cell_type": "markdown",
   "metadata": {},
   "source": [
    "# 3. Exploratory Data Analysis"
   ]
  },
  {
   "cell_type": "markdown",
   "metadata": {},
   "source": [
    "Look further into the data:\n",
    "1. Create a chloropleth map to look at the concentration of top 200 universities in different countries\n",
    "2. Plot the top 10 university change from 2013-2023 ?\n",
    "3. Investigate the relationship between university rankings vs number of students"
   ]
  },
  {
   "cell_type": "markdown",
   "metadata": {},
   "source": [
    "## Chloropleth map "
   ]
  },
  {
   "cell_type": "code",
   "execution_count": 107,
   "metadata": {},
   "outputs": [
    {
     "data": {
      "text/html": [
       "<div>\n",
       "<style scoped>\n",
       "    .dataframe tbody tr th:only-of-type {\n",
       "        vertical-align: middle;\n",
       "    }\n",
       "\n",
       "    .dataframe tbody tr th {\n",
       "        vertical-align: top;\n",
       "    }\n",
       "\n",
       "    .dataframe thead th {\n",
       "        text-align: right;\n",
       "    }\n",
       "</style>\n",
       "<table border=\"1\" class=\"dataframe\">\n",
       "  <thead>\n",
       "    <tr style=\"text-align: right;\">\n",
       "      <th></th>\n",
       "      <th>location</th>\n",
       "      <th>num_universities</th>\n",
       "    </tr>\n",
       "  </thead>\n",
       "  <tbody>\n",
       "    <tr>\n",
       "      <th>0</th>\n",
       "      <td>United States</td>\n",
       "      <td>58</td>\n",
       "    </tr>\n",
       "    <tr>\n",
       "      <th>1</th>\n",
       "      <td>United Kingdom</td>\n",
       "      <td>28</td>\n",
       "    </tr>\n",
       "    <tr>\n",
       "      <th>2</th>\n",
       "      <td>Germany</td>\n",
       "      <td>22</td>\n",
       "    </tr>\n",
       "    <tr>\n",
       "      <th>3</th>\n",
       "      <td>China</td>\n",
       "      <td>11</td>\n",
       "    </tr>\n",
       "    <tr>\n",
       "      <th>4</th>\n",
       "      <td>Australia</td>\n",
       "      <td>10</td>\n",
       "    </tr>\n",
       "    <tr>\n",
       "      <th>5</th>\n",
       "      <td>Netherlands</td>\n",
       "      <td>10</td>\n",
       "    </tr>\n",
       "    <tr>\n",
       "      <th>6</th>\n",
       "      <td>Canada</td>\n",
       "      <td>7</td>\n",
       "    </tr>\n",
       "    <tr>\n",
       "      <th>7</th>\n",
       "      <td>South Korea</td>\n",
       "      <td>6</td>\n",
       "    </tr>\n",
       "    <tr>\n",
       "      <th>8</th>\n",
       "      <td>Switzerland</td>\n",
       "      <td>6</td>\n",
       "    </tr>\n",
       "    <tr>\n",
       "      <th>9</th>\n",
       "      <td>France</td>\n",
       "      <td>5</td>\n",
       "    </tr>\n",
       "    <tr>\n",
       "      <th>10</th>\n",
       "      <td>Hong Kong</td>\n",
       "      <td>5</td>\n",
       "    </tr>\n",
       "    <tr>\n",
       "      <th>11</th>\n",
       "      <td>Sweden</td>\n",
       "      <td>5</td>\n",
       "    </tr>\n",
       "    <tr>\n",
       "      <th>12</th>\n",
       "      <td>Belgium</td>\n",
       "      <td>4</td>\n",
       "    </tr>\n",
       "    <tr>\n",
       "      <th>13</th>\n",
       "      <td>Spain</td>\n",
       "      <td>3</td>\n",
       "    </tr>\n",
       "    <tr>\n",
       "      <th>14</th>\n",
       "      <td>Denmark</td>\n",
       "      <td>3</td>\n",
       "    </tr>\n",
       "    <tr>\n",
       "      <th>15</th>\n",
       "      <td>Austria</td>\n",
       "      <td>3</td>\n",
       "    </tr>\n",
       "    <tr>\n",
       "      <th>16</th>\n",
       "      <td>Finland</td>\n",
       "      <td>2</td>\n",
       "    </tr>\n",
       "    <tr>\n",
       "      <th>17</th>\n",
       "      <td>Singapore</td>\n",
       "      <td>2</td>\n",
       "    </tr>\n",
       "    <tr>\n",
       "      <th>18</th>\n",
       "      <td>Japan</td>\n",
       "      <td>2</td>\n",
       "    </tr>\n",
       "    <tr>\n",
       "      <th>19</th>\n",
       "      <td>Italy</td>\n",
       "      <td>2</td>\n",
       "    </tr>\n",
       "    <tr>\n",
       "      <th>20</th>\n",
       "      <td>Saudi Arabia</td>\n",
       "      <td>1</td>\n",
       "    </tr>\n",
       "    <tr>\n",
       "      <th>21</th>\n",
       "      <td>South Africa</td>\n",
       "      <td>1</td>\n",
       "    </tr>\n",
       "    <tr>\n",
       "      <th>22</th>\n",
       "      <td>New Zealand</td>\n",
       "      <td>1</td>\n",
       "    </tr>\n",
       "    <tr>\n",
       "      <th>23</th>\n",
       "      <td>Taiwan</td>\n",
       "      <td>1</td>\n",
       "    </tr>\n",
       "    <tr>\n",
       "      <th>24</th>\n",
       "      <td>Ireland</td>\n",
       "      <td>1</td>\n",
       "    </tr>\n",
       "    <tr>\n",
       "      <th>25</th>\n",
       "      <td>Norway</td>\n",
       "      <td>1</td>\n",
       "    </tr>\n",
       "  </tbody>\n",
       "</table>\n",
       "</div>"
      ],
      "text/plain": [
       "          location  num_universities\n",
       "0    United States                58\n",
       "1   United Kingdom                28\n",
       "2          Germany                22\n",
       "3            China                11\n",
       "4        Australia                10\n",
       "5      Netherlands                10\n",
       "6           Canada                 7\n",
       "7      South Korea                 6\n",
       "8      Switzerland                 6\n",
       "9           France                 5\n",
       "10       Hong Kong                 5\n",
       "11          Sweden                 5\n",
       "12         Belgium                 4\n",
       "13           Spain                 3\n",
       "14         Denmark                 3\n",
       "15         Austria                 3\n",
       "16         Finland                 2\n",
       "17       Singapore                 2\n",
       "18           Japan                 2\n",
       "19           Italy                 2\n",
       "20    Saudi Arabia                 1\n",
       "21    South Africa                 1\n",
       "22     New Zealand                 1\n",
       "23          Taiwan                 1\n",
       "24         Ireland                 1\n",
       "25          Norway                 1"
      ]
     },
     "execution_count": 107,
     "metadata": {},
     "output_type": "execute_result"
    }
   ],
   "source": [
    "# Groupby universities into location and count\n",
    "df_map = df_top200.groupby('location').count().reset_index()\n",
    "df_map = df_map[['location', 'Rank']].sort_values(by = 'Rank', ascending=False).reset_index(drop=True)\n",
    "df_map.rename(columns = {'Rank': 'num_universities'}, inplace=True)\n",
    "df_map"
   ]
  },
  {
   "cell_type": "code",
   "execution_count": 280,
   "metadata": {},
   "outputs": [
    {
     "data": {
      "application/vnd.plotly.v1+json": {
       "config": {
        "plotlyServerURL": "https://plotly.com"
       },
       "data": [
        {
         "coloraxis": "coloraxis",
         "customdata": [
          [
           "United States",
           58
          ],
          [
           "United Kingdom",
           28
          ],
          [
           "Germany",
           22
          ],
          [
           "China",
           11
          ],
          [
           "Australia",
           10
          ],
          [
           "Netherlands",
           10
          ],
          [
           "Canada",
           7
          ],
          [
           "South Korea",
           6
          ],
          [
           "Switzerland",
           6
          ],
          [
           "France",
           5
          ],
          [
           "Hong Kong",
           5
          ],
          [
           "Sweden",
           5
          ],
          [
           "Belgium",
           4
          ],
          [
           "Spain",
           3
          ],
          [
           "Denmark",
           3
          ],
          [
           "Austria",
           3
          ],
          [
           "Finland",
           2
          ],
          [
           "Singapore",
           2
          ],
          [
           "Japan",
           2
          ],
          [
           "Italy",
           2
          ],
          [
           "Saudi Arabia",
           1
          ],
          [
           "South Africa",
           1
          ],
          [
           "New Zealand",
           1
          ],
          [
           "Taiwan",
           1
          ],
          [
           "Ireland",
           1
          ],
          [
           "Norway",
           1
          ]
         ],
         "geo": "geo",
         "hovertemplate": "<b>%{hovertext}</b><br><br>location=%{customdata[0]}<br>Number of Top 200 Universities=%{z}<extra></extra>",
         "hovertext": [
          "United States",
          "United Kingdom",
          "Germany",
          "China",
          "Australia",
          "Netherlands",
          "Canada",
          "South Korea",
          "Switzerland",
          "France",
          "Hong Kong",
          "Sweden",
          "Belgium",
          "Spain",
          "Denmark",
          "Austria",
          "Finland",
          "Singapore",
          "Japan",
          "Italy",
          "Saudi Arabia",
          "South Africa",
          "New Zealand",
          "Taiwan",
          "Ireland",
          "Norway"
         ],
         "locationmode": "country names",
         "locations": [
          "United States",
          "United Kingdom",
          "Germany",
          "China",
          "Australia",
          "Netherlands",
          "Canada",
          "South Korea",
          "Switzerland",
          "France",
          "Hong Kong",
          "Sweden",
          "Belgium",
          "Spain",
          "Denmark",
          "Austria",
          "Finland",
          "Singapore",
          "Japan",
          "Italy",
          "Saudi Arabia",
          "South Africa",
          "New Zealand",
          "Taiwan",
          "Ireland",
          "Norway"
         ],
         "name": "",
         "type": "choropleth",
         "z": [
          58,
          28,
          22,
          11,
          10,
          10,
          7,
          6,
          6,
          5,
          5,
          5,
          4,
          3,
          3,
          3,
          2,
          2,
          2,
          2,
          1,
          1,
          1,
          1,
          1,
          1
         ]
        }
       ],
       "layout": {
        "coloraxis": {
         "colorbar": {
          "title": {
           "text": "Number of Universities"
          }
         },
         "colorscale": [
          [
           0,
           "#0d0887"
          ],
          [
           0.1111111111111111,
           "#46039f"
          ],
          [
           0.2222222222222222,
           "#7201a8"
          ],
          [
           0.3333333333333333,
           "#9c179e"
          ],
          [
           0.4444444444444444,
           "#bd3786"
          ],
          [
           0.5555555555555556,
           "#d8576b"
          ],
          [
           0.6666666666666666,
           "#ed7953"
          ],
          [
           0.7777777777777778,
           "#fb9f3a"
          ],
          [
           0.8888888888888888,
           "#fdca26"
          ],
          [
           1,
           "#f0f921"
          ]
         ]
        },
        "geo": {
         "center": {},
         "coastlinecolor": "Black",
         "domain": {
          "x": [
           0,
           1
          ],
          "y": [
           0,
           1
          ]
         },
         "landcolor": "white",
         "projection": {
          "type": "mercator"
         },
         "showcoastlines": true,
         "showframe": false,
         "showland": true
        },
        "legend": {
         "tracegroupgap": 0
        },
        "template": {
         "data": {
          "bar": [
           {
            "error_x": {
             "color": "#2a3f5f"
            },
            "error_y": {
             "color": "#2a3f5f"
            },
            "marker": {
             "line": {
              "color": "#E5ECF6",
              "width": 0.5
             },
             "pattern": {
              "fillmode": "overlay",
              "size": 10,
              "solidity": 0.2
             }
            },
            "type": "bar"
           }
          ],
          "barpolar": [
           {
            "marker": {
             "line": {
              "color": "#E5ECF6",
              "width": 0.5
             },
             "pattern": {
              "fillmode": "overlay",
              "size": 10,
              "solidity": 0.2
             }
            },
            "type": "barpolar"
           }
          ],
          "carpet": [
           {
            "aaxis": {
             "endlinecolor": "#2a3f5f",
             "gridcolor": "white",
             "linecolor": "white",
             "minorgridcolor": "white",
             "startlinecolor": "#2a3f5f"
            },
            "baxis": {
             "endlinecolor": "#2a3f5f",
             "gridcolor": "white",
             "linecolor": "white",
             "minorgridcolor": "white",
             "startlinecolor": "#2a3f5f"
            },
            "type": "carpet"
           }
          ],
          "choropleth": [
           {
            "colorbar": {
             "outlinewidth": 0,
             "ticks": ""
            },
            "type": "choropleth"
           }
          ],
          "contour": [
           {
            "colorbar": {
             "outlinewidth": 0,
             "ticks": ""
            },
            "colorscale": [
             [
              0,
              "#0d0887"
             ],
             [
              0.1111111111111111,
              "#46039f"
             ],
             [
              0.2222222222222222,
              "#7201a8"
             ],
             [
              0.3333333333333333,
              "#9c179e"
             ],
             [
              0.4444444444444444,
              "#bd3786"
             ],
             [
              0.5555555555555556,
              "#d8576b"
             ],
             [
              0.6666666666666666,
              "#ed7953"
             ],
             [
              0.7777777777777778,
              "#fb9f3a"
             ],
             [
              0.8888888888888888,
              "#fdca26"
             ],
             [
              1,
              "#f0f921"
             ]
            ],
            "type": "contour"
           }
          ],
          "contourcarpet": [
           {
            "colorbar": {
             "outlinewidth": 0,
             "ticks": ""
            },
            "type": "contourcarpet"
           }
          ],
          "heatmap": [
           {
            "colorbar": {
             "outlinewidth": 0,
             "ticks": ""
            },
            "colorscale": [
             [
              0,
              "#0d0887"
             ],
             [
              0.1111111111111111,
              "#46039f"
             ],
             [
              0.2222222222222222,
              "#7201a8"
             ],
             [
              0.3333333333333333,
              "#9c179e"
             ],
             [
              0.4444444444444444,
              "#bd3786"
             ],
             [
              0.5555555555555556,
              "#d8576b"
             ],
             [
              0.6666666666666666,
              "#ed7953"
             ],
             [
              0.7777777777777778,
              "#fb9f3a"
             ],
             [
              0.8888888888888888,
              "#fdca26"
             ],
             [
              1,
              "#f0f921"
             ]
            ],
            "type": "heatmap"
           }
          ],
          "heatmapgl": [
           {
            "colorbar": {
             "outlinewidth": 0,
             "ticks": ""
            },
            "colorscale": [
             [
              0,
              "#0d0887"
             ],
             [
              0.1111111111111111,
              "#46039f"
             ],
             [
              0.2222222222222222,
              "#7201a8"
             ],
             [
              0.3333333333333333,
              "#9c179e"
             ],
             [
              0.4444444444444444,
              "#bd3786"
             ],
             [
              0.5555555555555556,
              "#d8576b"
             ],
             [
              0.6666666666666666,
              "#ed7953"
             ],
             [
              0.7777777777777778,
              "#fb9f3a"
             ],
             [
              0.8888888888888888,
              "#fdca26"
             ],
             [
              1,
              "#f0f921"
             ]
            ],
            "type": "heatmapgl"
           }
          ],
          "histogram": [
           {
            "marker": {
             "pattern": {
              "fillmode": "overlay",
              "size": 10,
              "solidity": 0.2
             }
            },
            "type": "histogram"
           }
          ],
          "histogram2d": [
           {
            "colorbar": {
             "outlinewidth": 0,
             "ticks": ""
            },
            "colorscale": [
             [
              0,
              "#0d0887"
             ],
             [
              0.1111111111111111,
              "#46039f"
             ],
             [
              0.2222222222222222,
              "#7201a8"
             ],
             [
              0.3333333333333333,
              "#9c179e"
             ],
             [
              0.4444444444444444,
              "#bd3786"
             ],
             [
              0.5555555555555556,
              "#d8576b"
             ],
             [
              0.6666666666666666,
              "#ed7953"
             ],
             [
              0.7777777777777778,
              "#fb9f3a"
             ],
             [
              0.8888888888888888,
              "#fdca26"
             ],
             [
              1,
              "#f0f921"
             ]
            ],
            "type": "histogram2d"
           }
          ],
          "histogram2dcontour": [
           {
            "colorbar": {
             "outlinewidth": 0,
             "ticks": ""
            },
            "colorscale": [
             [
              0,
              "#0d0887"
             ],
             [
              0.1111111111111111,
              "#46039f"
             ],
             [
              0.2222222222222222,
              "#7201a8"
             ],
             [
              0.3333333333333333,
              "#9c179e"
             ],
             [
              0.4444444444444444,
              "#bd3786"
             ],
             [
              0.5555555555555556,
              "#d8576b"
             ],
             [
              0.6666666666666666,
              "#ed7953"
             ],
             [
              0.7777777777777778,
              "#fb9f3a"
             ],
             [
              0.8888888888888888,
              "#fdca26"
             ],
             [
              1,
              "#f0f921"
             ]
            ],
            "type": "histogram2dcontour"
           }
          ],
          "mesh3d": [
           {
            "colorbar": {
             "outlinewidth": 0,
             "ticks": ""
            },
            "type": "mesh3d"
           }
          ],
          "parcoords": [
           {
            "line": {
             "colorbar": {
              "outlinewidth": 0,
              "ticks": ""
             }
            },
            "type": "parcoords"
           }
          ],
          "pie": [
           {
            "automargin": true,
            "type": "pie"
           }
          ],
          "scatter": [
           {
            "fillpattern": {
             "fillmode": "overlay",
             "size": 10,
             "solidity": 0.2
            },
            "type": "scatter"
           }
          ],
          "scatter3d": [
           {
            "line": {
             "colorbar": {
              "outlinewidth": 0,
              "ticks": ""
             }
            },
            "marker": {
             "colorbar": {
              "outlinewidth": 0,
              "ticks": ""
             }
            },
            "type": "scatter3d"
           }
          ],
          "scattercarpet": [
           {
            "marker": {
             "colorbar": {
              "outlinewidth": 0,
              "ticks": ""
             }
            },
            "type": "scattercarpet"
           }
          ],
          "scattergeo": [
           {
            "marker": {
             "colorbar": {
              "outlinewidth": 0,
              "ticks": ""
             }
            },
            "type": "scattergeo"
           }
          ],
          "scattergl": [
           {
            "marker": {
             "colorbar": {
              "outlinewidth": 0,
              "ticks": ""
             }
            },
            "type": "scattergl"
           }
          ],
          "scattermapbox": [
           {
            "marker": {
             "colorbar": {
              "outlinewidth": 0,
              "ticks": ""
             }
            },
            "type": "scattermapbox"
           }
          ],
          "scatterpolar": [
           {
            "marker": {
             "colorbar": {
              "outlinewidth": 0,
              "ticks": ""
             }
            },
            "type": "scatterpolar"
           }
          ],
          "scatterpolargl": [
           {
            "marker": {
             "colorbar": {
              "outlinewidth": 0,
              "ticks": ""
             }
            },
            "type": "scatterpolargl"
           }
          ],
          "scatterternary": [
           {
            "marker": {
             "colorbar": {
              "outlinewidth": 0,
              "ticks": ""
             }
            },
            "type": "scatterternary"
           }
          ],
          "surface": [
           {
            "colorbar": {
             "outlinewidth": 0,
             "ticks": ""
            },
            "colorscale": [
             [
              0,
              "#0d0887"
             ],
             [
              0.1111111111111111,
              "#46039f"
             ],
             [
              0.2222222222222222,
              "#7201a8"
             ],
             [
              0.3333333333333333,
              "#9c179e"
             ],
             [
              0.4444444444444444,
              "#bd3786"
             ],
             [
              0.5555555555555556,
              "#d8576b"
             ],
             [
              0.6666666666666666,
              "#ed7953"
             ],
             [
              0.7777777777777778,
              "#fb9f3a"
             ],
             [
              0.8888888888888888,
              "#fdca26"
             ],
             [
              1,
              "#f0f921"
             ]
            ],
            "type": "surface"
           }
          ],
          "table": [
           {
            "cells": {
             "fill": {
              "color": "#EBF0F8"
             },
             "line": {
              "color": "white"
             }
            },
            "header": {
             "fill": {
              "color": "#C8D4E3"
             },
             "line": {
              "color": "white"
             }
            },
            "type": "table"
           }
          ]
         },
         "layout": {
          "annotationdefaults": {
           "arrowcolor": "#2a3f5f",
           "arrowhead": 0,
           "arrowwidth": 1
          },
          "autotypenumbers": "strict",
          "coloraxis": {
           "colorbar": {
            "outlinewidth": 0,
            "ticks": ""
           }
          },
          "colorscale": {
           "diverging": [
            [
             0,
             "#8e0152"
            ],
            [
             0.1,
             "#c51b7d"
            ],
            [
             0.2,
             "#de77ae"
            ],
            [
             0.3,
             "#f1b6da"
            ],
            [
             0.4,
             "#fde0ef"
            ],
            [
             0.5,
             "#f7f7f7"
            ],
            [
             0.6,
             "#e6f5d0"
            ],
            [
             0.7,
             "#b8e186"
            ],
            [
             0.8,
             "#7fbc41"
            ],
            [
             0.9,
             "#4d9221"
            ],
            [
             1,
             "#276419"
            ]
           ],
           "sequential": [
            [
             0,
             "#0d0887"
            ],
            [
             0.1111111111111111,
             "#46039f"
            ],
            [
             0.2222222222222222,
             "#7201a8"
            ],
            [
             0.3333333333333333,
             "#9c179e"
            ],
            [
             0.4444444444444444,
             "#bd3786"
            ],
            [
             0.5555555555555556,
             "#d8576b"
            ],
            [
             0.6666666666666666,
             "#ed7953"
            ],
            [
             0.7777777777777778,
             "#fb9f3a"
            ],
            [
             0.8888888888888888,
             "#fdca26"
            ],
            [
             1,
             "#f0f921"
            ]
           ],
           "sequentialminus": [
            [
             0,
             "#0d0887"
            ],
            [
             0.1111111111111111,
             "#46039f"
            ],
            [
             0.2222222222222222,
             "#7201a8"
            ],
            [
             0.3333333333333333,
             "#9c179e"
            ],
            [
             0.4444444444444444,
             "#bd3786"
            ],
            [
             0.5555555555555556,
             "#d8576b"
            ],
            [
             0.6666666666666666,
             "#ed7953"
            ],
            [
             0.7777777777777778,
             "#fb9f3a"
            ],
            [
             0.8888888888888888,
             "#fdca26"
            ],
            [
             1,
             "#f0f921"
            ]
           ]
          },
          "colorway": [
           "#636efa",
           "#EF553B",
           "#00cc96",
           "#ab63fa",
           "#FFA15A",
           "#19d3f3",
           "#FF6692",
           "#B6E880",
           "#FF97FF",
           "#FECB52"
          ],
          "font": {
           "color": "#2a3f5f"
          },
          "geo": {
           "bgcolor": "white",
           "lakecolor": "white",
           "landcolor": "#E5ECF6",
           "showlakes": true,
           "showland": true,
           "subunitcolor": "white"
          },
          "hoverlabel": {
           "align": "left"
          },
          "hovermode": "closest",
          "mapbox": {
           "style": "light"
          },
          "paper_bgcolor": "white",
          "plot_bgcolor": "#E5ECF6",
          "polar": {
           "angularaxis": {
            "gridcolor": "white",
            "linecolor": "white",
            "ticks": ""
           },
           "bgcolor": "#E5ECF6",
           "radialaxis": {
            "gridcolor": "white",
            "linecolor": "white",
            "ticks": ""
           }
          },
          "scene": {
           "xaxis": {
            "backgroundcolor": "#E5ECF6",
            "gridcolor": "white",
            "gridwidth": 2,
            "linecolor": "white",
            "showbackground": true,
            "ticks": "",
            "zerolinecolor": "white"
           },
           "yaxis": {
            "backgroundcolor": "#E5ECF6",
            "gridcolor": "white",
            "gridwidth": 2,
            "linecolor": "white",
            "showbackground": true,
            "ticks": "",
            "zerolinecolor": "white"
           },
           "zaxis": {
            "backgroundcolor": "#E5ECF6",
            "gridcolor": "white",
            "gridwidth": 2,
            "linecolor": "white",
            "showbackground": true,
            "ticks": "",
            "zerolinecolor": "white"
           }
          },
          "shapedefaults": {
           "line": {
            "color": "#2a3f5f"
           }
          },
          "ternary": {
           "aaxis": {
            "gridcolor": "white",
            "linecolor": "white",
            "ticks": ""
           },
           "baxis": {
            "gridcolor": "white",
            "linecolor": "white",
            "ticks": ""
           },
           "bgcolor": "#E5ECF6",
           "caxis": {
            "gridcolor": "white",
            "linecolor": "white",
            "ticks": ""
           }
          },
          "title": {
           "x": 0.05
          },
          "xaxis": {
           "automargin": true,
           "gridcolor": "white",
           "linecolor": "white",
           "ticks": "",
           "title": {
            "standoff": 15
           },
           "zerolinecolor": "white",
           "zerolinewidth": 2
          },
          "yaxis": {
           "automargin": true,
           "gridcolor": "white",
           "linecolor": "white",
           "ticks": "",
           "title": {
            "standoff": 15
           },
           "zerolinecolor": "white",
           "zerolinewidth": 2
          }
         }
        },
        "title": {
         "font": {
          "size": 24
         },
         "text": "Distribution of Top 200 Universities by Country",
         "x": 0.5,
         "xanchor": "center"
        }
       }
      },
      "text/html": [
       "<div>                            <div id=\"746efaa9-2472-41a7-ac54-6a2be3cc3451\" class=\"plotly-graph-div\" style=\"height:525px; width:100%;\"></div>            <script type=\"text/javascript\">                require([\"plotly\"], function(Plotly) {                    window.PLOTLYENV=window.PLOTLYENV || {};                                    if (document.getElementById(\"746efaa9-2472-41a7-ac54-6a2be3cc3451\")) {                    Plotly.newPlot(                        \"746efaa9-2472-41a7-ac54-6a2be3cc3451\",                        [{\"coloraxis\":\"coloraxis\",\"customdata\":[[\"United States\",58],[\"United Kingdom\",28],[\"Germany\",22],[\"China\",11],[\"Australia\",10],[\"Netherlands\",10],[\"Canada\",7],[\"South Korea\",6],[\"Switzerland\",6],[\"France\",5],[\"Hong Kong\",5],[\"Sweden\",5],[\"Belgium\",4],[\"Spain\",3],[\"Denmark\",3],[\"Austria\",3],[\"Finland\",2],[\"Singapore\",2],[\"Japan\",2],[\"Italy\",2],[\"Saudi Arabia\",1],[\"South Africa\",1],[\"New Zealand\",1],[\"Taiwan\",1],[\"Ireland\",1],[\"Norway\",1]],\"geo\":\"geo\",\"hovertemplate\":\"<b>%{hovertext}</b><br><br>location=%{customdata[0]}<br>Number of Top 200 Universities=%{z}<extra></extra>\",\"hovertext\":[\"United States\",\"United Kingdom\",\"Germany\",\"China\",\"Australia\",\"Netherlands\",\"Canada\",\"South Korea\",\"Switzerland\",\"France\",\"Hong Kong\",\"Sweden\",\"Belgium\",\"Spain\",\"Denmark\",\"Austria\",\"Finland\",\"Singapore\",\"Japan\",\"Italy\",\"Saudi Arabia\",\"South Africa\",\"New Zealand\",\"Taiwan\",\"Ireland\",\"Norway\"],\"locationmode\":\"country names\",\"locations\":[\"United States\",\"United Kingdom\",\"Germany\",\"China\",\"Australia\",\"Netherlands\",\"Canada\",\"South Korea\",\"Switzerland\",\"France\",\"Hong Kong\",\"Sweden\",\"Belgium\",\"Spain\",\"Denmark\",\"Austria\",\"Finland\",\"Singapore\",\"Japan\",\"Italy\",\"Saudi Arabia\",\"South Africa\",\"New Zealand\",\"Taiwan\",\"Ireland\",\"Norway\"],\"name\":\"\",\"z\":[58,28,22,11,10,10,7,6,6,5,5,5,4,3,3,3,2,2,2,2,1,1,1,1,1,1],\"type\":\"choropleth\"}],                        {\"template\":{\"data\":{\"histogram2dcontour\":[{\"type\":\"histogram2dcontour\",\"colorbar\":{\"outlinewidth\":0,\"ticks\":\"\"},\"colorscale\":[[0.0,\"#0d0887\"],[0.1111111111111111,\"#46039f\"],[0.2222222222222222,\"#7201a8\"],[0.3333333333333333,\"#9c179e\"],[0.4444444444444444,\"#bd3786\"],[0.5555555555555556,\"#d8576b\"],[0.6666666666666666,\"#ed7953\"],[0.7777777777777778,\"#fb9f3a\"],[0.8888888888888888,\"#fdca26\"],[1.0,\"#f0f921\"]]}],\"choropleth\":[{\"type\":\"choropleth\",\"colorbar\":{\"outlinewidth\":0,\"ticks\":\"\"}}],\"histogram2d\":[{\"type\":\"histogram2d\",\"colorbar\":{\"outlinewidth\":0,\"ticks\":\"\"},\"colorscale\":[[0.0,\"#0d0887\"],[0.1111111111111111,\"#46039f\"],[0.2222222222222222,\"#7201a8\"],[0.3333333333333333,\"#9c179e\"],[0.4444444444444444,\"#bd3786\"],[0.5555555555555556,\"#d8576b\"],[0.6666666666666666,\"#ed7953\"],[0.7777777777777778,\"#fb9f3a\"],[0.8888888888888888,\"#fdca26\"],[1.0,\"#f0f921\"]]}],\"heatmap\":[{\"type\":\"heatmap\",\"colorbar\":{\"outlinewidth\":0,\"ticks\":\"\"},\"colorscale\":[[0.0,\"#0d0887\"],[0.1111111111111111,\"#46039f\"],[0.2222222222222222,\"#7201a8\"],[0.3333333333333333,\"#9c179e\"],[0.4444444444444444,\"#bd3786\"],[0.5555555555555556,\"#d8576b\"],[0.6666666666666666,\"#ed7953\"],[0.7777777777777778,\"#fb9f3a\"],[0.8888888888888888,\"#fdca26\"],[1.0,\"#f0f921\"]]}],\"heatmapgl\":[{\"type\":\"heatmapgl\",\"colorbar\":{\"outlinewidth\":0,\"ticks\":\"\"},\"colorscale\":[[0.0,\"#0d0887\"],[0.1111111111111111,\"#46039f\"],[0.2222222222222222,\"#7201a8\"],[0.3333333333333333,\"#9c179e\"],[0.4444444444444444,\"#bd3786\"],[0.5555555555555556,\"#d8576b\"],[0.6666666666666666,\"#ed7953\"],[0.7777777777777778,\"#fb9f3a\"],[0.8888888888888888,\"#fdca26\"],[1.0,\"#f0f921\"]]}],\"contourcarpet\":[{\"type\":\"contourcarpet\",\"colorbar\":{\"outlinewidth\":0,\"ticks\":\"\"}}],\"contour\":[{\"type\":\"contour\",\"colorbar\":{\"outlinewidth\":0,\"ticks\":\"\"},\"colorscale\":[[0.0,\"#0d0887\"],[0.1111111111111111,\"#46039f\"],[0.2222222222222222,\"#7201a8\"],[0.3333333333333333,\"#9c179e\"],[0.4444444444444444,\"#bd3786\"],[0.5555555555555556,\"#d8576b\"],[0.6666666666666666,\"#ed7953\"],[0.7777777777777778,\"#fb9f3a\"],[0.8888888888888888,\"#fdca26\"],[1.0,\"#f0f921\"]]}],\"surface\":[{\"type\":\"surface\",\"colorbar\":{\"outlinewidth\":0,\"ticks\":\"\"},\"colorscale\":[[0.0,\"#0d0887\"],[0.1111111111111111,\"#46039f\"],[0.2222222222222222,\"#7201a8\"],[0.3333333333333333,\"#9c179e\"],[0.4444444444444444,\"#bd3786\"],[0.5555555555555556,\"#d8576b\"],[0.6666666666666666,\"#ed7953\"],[0.7777777777777778,\"#fb9f3a\"],[0.8888888888888888,\"#fdca26\"],[1.0,\"#f0f921\"]]}],\"mesh3d\":[{\"type\":\"mesh3d\",\"colorbar\":{\"outlinewidth\":0,\"ticks\":\"\"}}],\"scatter\":[{\"fillpattern\":{\"fillmode\":\"overlay\",\"size\":10,\"solidity\":0.2},\"type\":\"scatter\"}],\"parcoords\":[{\"type\":\"parcoords\",\"line\":{\"colorbar\":{\"outlinewidth\":0,\"ticks\":\"\"}}}],\"scatterpolargl\":[{\"type\":\"scatterpolargl\",\"marker\":{\"colorbar\":{\"outlinewidth\":0,\"ticks\":\"\"}}}],\"bar\":[{\"error_x\":{\"color\":\"#2a3f5f\"},\"error_y\":{\"color\":\"#2a3f5f\"},\"marker\":{\"line\":{\"color\":\"#E5ECF6\",\"width\":0.5},\"pattern\":{\"fillmode\":\"overlay\",\"size\":10,\"solidity\":0.2}},\"type\":\"bar\"}],\"scattergeo\":[{\"type\":\"scattergeo\",\"marker\":{\"colorbar\":{\"outlinewidth\":0,\"ticks\":\"\"}}}],\"scatterpolar\":[{\"type\":\"scatterpolar\",\"marker\":{\"colorbar\":{\"outlinewidth\":0,\"ticks\":\"\"}}}],\"histogram\":[{\"marker\":{\"pattern\":{\"fillmode\":\"overlay\",\"size\":10,\"solidity\":0.2}},\"type\":\"histogram\"}],\"scattergl\":[{\"type\":\"scattergl\",\"marker\":{\"colorbar\":{\"outlinewidth\":0,\"ticks\":\"\"}}}],\"scatter3d\":[{\"type\":\"scatter3d\",\"line\":{\"colorbar\":{\"outlinewidth\":0,\"ticks\":\"\"}},\"marker\":{\"colorbar\":{\"outlinewidth\":0,\"ticks\":\"\"}}}],\"scattermapbox\":[{\"type\":\"scattermapbox\",\"marker\":{\"colorbar\":{\"outlinewidth\":0,\"ticks\":\"\"}}}],\"scatterternary\":[{\"type\":\"scatterternary\",\"marker\":{\"colorbar\":{\"outlinewidth\":0,\"ticks\":\"\"}}}],\"scattercarpet\":[{\"type\":\"scattercarpet\",\"marker\":{\"colorbar\":{\"outlinewidth\":0,\"ticks\":\"\"}}}],\"carpet\":[{\"aaxis\":{\"endlinecolor\":\"#2a3f5f\",\"gridcolor\":\"white\",\"linecolor\":\"white\",\"minorgridcolor\":\"white\",\"startlinecolor\":\"#2a3f5f\"},\"baxis\":{\"endlinecolor\":\"#2a3f5f\",\"gridcolor\":\"white\",\"linecolor\":\"white\",\"minorgridcolor\":\"white\",\"startlinecolor\":\"#2a3f5f\"},\"type\":\"carpet\"}],\"table\":[{\"cells\":{\"fill\":{\"color\":\"#EBF0F8\"},\"line\":{\"color\":\"white\"}},\"header\":{\"fill\":{\"color\":\"#C8D4E3\"},\"line\":{\"color\":\"white\"}},\"type\":\"table\"}],\"barpolar\":[{\"marker\":{\"line\":{\"color\":\"#E5ECF6\",\"width\":0.5},\"pattern\":{\"fillmode\":\"overlay\",\"size\":10,\"solidity\":0.2}},\"type\":\"barpolar\"}],\"pie\":[{\"automargin\":true,\"type\":\"pie\"}]},\"layout\":{\"autotypenumbers\":\"strict\",\"colorway\":[\"#636efa\",\"#EF553B\",\"#00cc96\",\"#ab63fa\",\"#FFA15A\",\"#19d3f3\",\"#FF6692\",\"#B6E880\",\"#FF97FF\",\"#FECB52\"],\"font\":{\"color\":\"#2a3f5f\"},\"hovermode\":\"closest\",\"hoverlabel\":{\"align\":\"left\"},\"paper_bgcolor\":\"white\",\"plot_bgcolor\":\"#E5ECF6\",\"polar\":{\"bgcolor\":\"#E5ECF6\",\"angularaxis\":{\"gridcolor\":\"white\",\"linecolor\":\"white\",\"ticks\":\"\"},\"radialaxis\":{\"gridcolor\":\"white\",\"linecolor\":\"white\",\"ticks\":\"\"}},\"ternary\":{\"bgcolor\":\"#E5ECF6\",\"aaxis\":{\"gridcolor\":\"white\",\"linecolor\":\"white\",\"ticks\":\"\"},\"baxis\":{\"gridcolor\":\"white\",\"linecolor\":\"white\",\"ticks\":\"\"},\"caxis\":{\"gridcolor\":\"white\",\"linecolor\":\"white\",\"ticks\":\"\"}},\"coloraxis\":{\"colorbar\":{\"outlinewidth\":0,\"ticks\":\"\"}},\"colorscale\":{\"sequential\":[[0.0,\"#0d0887\"],[0.1111111111111111,\"#46039f\"],[0.2222222222222222,\"#7201a8\"],[0.3333333333333333,\"#9c179e\"],[0.4444444444444444,\"#bd3786\"],[0.5555555555555556,\"#d8576b\"],[0.6666666666666666,\"#ed7953\"],[0.7777777777777778,\"#fb9f3a\"],[0.8888888888888888,\"#fdca26\"],[1.0,\"#f0f921\"]],\"sequentialminus\":[[0.0,\"#0d0887\"],[0.1111111111111111,\"#46039f\"],[0.2222222222222222,\"#7201a8\"],[0.3333333333333333,\"#9c179e\"],[0.4444444444444444,\"#bd3786\"],[0.5555555555555556,\"#d8576b\"],[0.6666666666666666,\"#ed7953\"],[0.7777777777777778,\"#fb9f3a\"],[0.8888888888888888,\"#fdca26\"],[1.0,\"#f0f921\"]],\"diverging\":[[0,\"#8e0152\"],[0.1,\"#c51b7d\"],[0.2,\"#de77ae\"],[0.3,\"#f1b6da\"],[0.4,\"#fde0ef\"],[0.5,\"#f7f7f7\"],[0.6,\"#e6f5d0\"],[0.7,\"#b8e186\"],[0.8,\"#7fbc41\"],[0.9,\"#4d9221\"],[1,\"#276419\"]]},\"xaxis\":{\"gridcolor\":\"white\",\"linecolor\":\"white\",\"ticks\":\"\",\"title\":{\"standoff\":15},\"zerolinecolor\":\"white\",\"automargin\":true,\"zerolinewidth\":2},\"yaxis\":{\"gridcolor\":\"white\",\"linecolor\":\"white\",\"ticks\":\"\",\"title\":{\"standoff\":15},\"zerolinecolor\":\"white\",\"automargin\":true,\"zerolinewidth\":2},\"scene\":{\"xaxis\":{\"backgroundcolor\":\"#E5ECF6\",\"gridcolor\":\"white\",\"linecolor\":\"white\",\"showbackground\":true,\"ticks\":\"\",\"zerolinecolor\":\"white\",\"gridwidth\":2},\"yaxis\":{\"backgroundcolor\":\"#E5ECF6\",\"gridcolor\":\"white\",\"linecolor\":\"white\",\"showbackground\":true,\"ticks\":\"\",\"zerolinecolor\":\"white\",\"gridwidth\":2},\"zaxis\":{\"backgroundcolor\":\"#E5ECF6\",\"gridcolor\":\"white\",\"linecolor\":\"white\",\"showbackground\":true,\"ticks\":\"\",\"zerolinecolor\":\"white\",\"gridwidth\":2}},\"shapedefaults\":{\"line\":{\"color\":\"#2a3f5f\"}},\"annotationdefaults\":{\"arrowcolor\":\"#2a3f5f\",\"arrowhead\":0,\"arrowwidth\":1},\"geo\":{\"bgcolor\":\"white\",\"landcolor\":\"#E5ECF6\",\"subunitcolor\":\"white\",\"showland\":true,\"showlakes\":true,\"lakecolor\":\"white\"},\"title\":{\"x\":0.05},\"mapbox\":{\"style\":\"light\"}}},\"geo\":{\"domain\":{\"x\":[0.0,1.0],\"y\":[0.0,1.0]},\"projection\":{\"type\":\"mercator\"},\"center\":{},\"showcoastlines\":true,\"coastlinecolor\":\"Black\",\"showland\":true,\"landcolor\":\"white\",\"showframe\":false},\"coloraxis\":{\"colorbar\":{\"title\":{\"text\":\"Number of Universities\"}},\"colorscale\":[[0.0,\"#0d0887\"],[0.1111111111111111,\"#46039f\"],[0.2222222222222222,\"#7201a8\"],[0.3333333333333333,\"#9c179e\"],[0.4444444444444444,\"#bd3786\"],[0.5555555555555556,\"#d8576b\"],[0.6666666666666666,\"#ed7953\"],[0.7777777777777778,\"#fb9f3a\"],[0.8888888888888888,\"#fdca26\"],[1.0,\"#f0f921\"]]},\"legend\":{\"tracegroupgap\":0},\"title\":{\"text\":\"Distribution of Top 200 Universities by Country\",\"font\":{\"size\":24},\"x\":0.5,\"xanchor\":\"center\"}},                        {\"responsive\": true}                    ).then(function(){\n",
       "                            \n",
       "var gd = document.getElementById('746efaa9-2472-41a7-ac54-6a2be3cc3451');\n",
       "var x = new MutationObserver(function (mutations, observer) {{\n",
       "        var display = window.getComputedStyle(gd).display;\n",
       "        if (!display || display === 'none') {{\n",
       "            console.log([gd, 'removed!']);\n",
       "            Plotly.purge(gd);\n",
       "            observer.disconnect();\n",
       "        }}\n",
       "}});\n",
       "\n",
       "// Listen for the removal of the full notebook cells\n",
       "var notebookContainer = gd.closest('#notebook-container');\n",
       "if (notebookContainer) {{\n",
       "    x.observe(notebookContainer, {childList: true});\n",
       "}}\n",
       "\n",
       "// Listen for the clearing of the current output cell\n",
       "var outputEl = gd.closest('.output');\n",
       "if (outputEl) {{\n",
       "    x.observe(outputEl, {childList: true});\n",
       "}}\n",
       "\n",
       "                        })                };                });            </script>        </div>"
      ]
     },
     "metadata": {},
     "output_type": "display_data"
    }
   ],
   "source": [
    "# Plot the choropleth map   \n",
    "fig = px.choropleth(data_frame = df_map,\n",
    "                     locations = 'location',\n",
    "                     locationmode = 'country names', \n",
    "                     color = 'num_universities',\n",
    "                     hover_name = 'location',\n",
    "                     hover_data = ['location', 'num_universities'],\n",
    "                     title = 'Distribution of Top 200 Universities by Country',\n",
    "                     color_continuous_scale = px.colors.sequential.Plasma,\n",
    "                     labels = {'num_universities': 'Number of Top 200 Universities'}, \n",
    "                     projection = 'mercator')\n",
    "\n",
    "fig.update_geos(showcoastlines=True, coastlinecolor=\"Black\", showland=True, landcolor=\"white\")\n",
    "fig.update_layout(geo=dict(showframe=False, showcoastlines=True, projection_type='mercator'),\n",
    "                  title=dict(x=0.5, xanchor='center', font=dict(size=24)),\n",
    "                  coloraxis_colorbar=dict(title='Number of Universities'))\n",
    "fig.show()"
   ]
  },
  {
   "cell_type": "code",
   "execution_count": 93,
   "metadata": {},
   "outputs": [
    {
     "name": "stderr",
     "output_type": "stream",
     "text": [
      "/var/folders/z1/7rqsn2ms1qdgg5wz1d2g6wv00000gn/T/ipykernel_61904/4002965245.py:2: SettingWithCopyWarning:\n",
      "\n",
      "\n",
      "A value is trying to be set on a copy of a slice from a DataFrame\n",
      "\n",
      "See the caveats in the documentation: https://pandas.pydata.org/pandas-docs/stable/user_guide/indexing.html#returning-a-view-versus-a-copy\n",
      "\n",
      "/var/folders/z1/7rqsn2ms1qdgg5wz1d2g6wv00000gn/T/ipykernel_61904/4002965245.py:3: SettingWithCopyWarning:\n",
      "\n",
      "\n",
      "A value is trying to be set on a copy of a slice from a DataFrame\n",
      "\n",
      "See the caveats in the documentation: https://pandas.pydata.org/pandas-docs/stable/user_guide/indexing.html#returning-a-view-versus-a-copy\n",
      "\n"
     ]
    },
    {
     "data": {
      "text/html": [
       "<div>\n",
       "<style scoped>\n",
       "    .dataframe tbody tr th:only-of-type {\n",
       "        vertical-align: middle;\n",
       "    }\n",
       "\n",
       "    .dataframe tbody tr th {\n",
       "        vertical-align: top;\n",
       "    }\n",
       "\n",
       "    .dataframe thead th {\n",
       "        text-align: right;\n",
       "    }\n",
       "</style>\n",
       "<table border=\"1\" class=\"dataframe\">\n",
       "  <thead>\n",
       "    <tr style=\"text-align: right;\">\n",
       "      <th></th>\n",
       "      <th>location</th>\n",
       "      <th>num_universities</th>\n",
       "    </tr>\n",
       "  </thead>\n",
       "  <tbody>\n",
       "    <tr>\n",
       "      <th>0</th>\n",
       "      <td>United\\nStates</td>\n",
       "      <td>58</td>\n",
       "    </tr>\n",
       "    <tr>\n",
       "      <th>1</th>\n",
       "      <td>United\\nKingdom</td>\n",
       "      <td>28</td>\n",
       "    </tr>\n",
       "    <tr>\n",
       "      <th>2</th>\n",
       "      <td>Germany</td>\n",
       "      <td>22</td>\n",
       "    </tr>\n",
       "    <tr>\n",
       "      <th>3</th>\n",
       "      <td>China</td>\n",
       "      <td>11</td>\n",
       "    </tr>\n",
       "    <tr>\n",
       "      <th>4</th>\n",
       "      <td>Australia</td>\n",
       "      <td>10</td>\n",
       "    </tr>\n",
       "    <tr>\n",
       "      <th>5</th>\n",
       "      <td>Netherlands</td>\n",
       "      <td>10</td>\n",
       "    </tr>\n",
       "    <tr>\n",
       "      <th>6</th>\n",
       "      <td>Canada</td>\n",
       "      <td>7</td>\n",
       "    </tr>\n",
       "    <tr>\n",
       "      <th>7</th>\n",
       "      <td>South Korea</td>\n",
       "      <td>6</td>\n",
       "    </tr>\n",
       "    <tr>\n",
       "      <th>8</th>\n",
       "      <td>Switzerland</td>\n",
       "      <td>6</td>\n",
       "    </tr>\n",
       "    <tr>\n",
       "      <th>9</th>\n",
       "      <td>France</td>\n",
       "      <td>5</td>\n",
       "    </tr>\n",
       "  </tbody>\n",
       "</table>\n",
       "</div>"
      ],
      "text/plain": [
       "          location  num_universities\n",
       "0   United\\nStates                58\n",
       "1  United\\nKingdom                28\n",
       "2          Germany                22\n",
       "3            China                11\n",
       "4        Australia                10\n",
       "5      Netherlands                10\n",
       "6           Canada                 7\n",
       "7      South Korea                 6\n",
       "8      Switzerland                 6\n",
       "9           France                 5"
      ]
     },
     "execution_count": 93,
     "metadata": {},
     "output_type": "execute_result"
    }
   ],
   "source": [
    "df_map10 = df_map[:10]\n",
    "df_map10['location'][0] = 'United\\nStates'\n",
    "df_map10['location'][1] = 'United\\nKingdom'\n",
    "df_map10"
   ]
  },
  {
   "cell_type": "code",
   "execution_count": 283,
   "metadata": {},
   "outputs": [
    {
     "data": {
      "image/png": "[encoded data removed]",
      "text/plain": [
       "<Figure size 1279.68x720 with 1 Axes>"
      ]
     },
     "metadata": {},
     "output_type": "display_data"
    }
   ],
   "source": [
    "# Create the figure and objects, specify size and dots per inches\n",
    "fig, ax = plt.subplots(figsize=(13.33, 7.5), dpi=96)\n",
    "\n",
    "# Create the grid \n",
    "ax.grid(which=\"major\", axis='x', color='#DAD8D7', alpha=0.5, zorder=1)\n",
    "ax.grid(which=\"major\", axis='y', color='#DAD8D7', alpha=0.5, zorder=1)\n",
    "\n",
    "# Reformat x-axis label and tick labels\n",
    "ax.set_xlabel('Country', fontsize=12, labelpad=-4) \n",
    "ax.xaxis.set_label_position(\"bottom\")\n",
    "ax.xaxis.set_tick_params(pad=2, labelbottom=True, bottom=True, labelsize=10, labelrotation=0)\n",
    "\n",
    "# Set custom labels for x-axis ticks\n",
    "labels = [e.title() for e in df_map10['location']]\n",
    "ax.set_xticks(range(len(labels)))  # Set tick positions\n",
    "ax.set_xticklabels(labels)  # Set tick labels\n",
    "\n",
    "# Reformat y-axis\n",
    "ax.set_ylabel('Number of Universities', fontsize=12, labelpad=10)\n",
    "ax.yaxis.set_label_position(\"left\")\n",
    "ax.yaxis.set_major_formatter(lambda s, i : f'{s:,.0f}')\n",
    "ax.yaxis.set_major_locator(MaxNLocator(integer=True))\n",
    "ax.yaxis.set_tick_params(pad=2, labeltop=False, labelbottom=True, bottom=False, labelsize=12)\n",
    "\n",
    "# Colours - Choose the extreme colours of the colour map\n",
    "colours = [\"#e0e0e0\", \"#1e88e5\"]\n",
    "\n",
    "# Colormap - Build the colour maps\n",
    "cmap = mpl.colors.LinearSegmentedColormap.from_list(\"colour_map\", colours, N=256)\n",
    "norm = mpl.colors.Normalize(df_map10['num_universities'].min(), df_map10['num_universities'].max()) # linearly normalizes data into the [0.0, 1.0] interval\n",
    "\n",
    "# Add labels on top of each bar\n",
    "bar1 = ax.bar(df_map10['location'], df_map10['num_universities'], color=cmap(norm(df_map10['num_universities'])), width=0.6, zorder=2)\n",
    "ax.bar_label(bar1, labels=[f'{e}' for e in df_map10['num_universities']], padding=3, color='black', fontsize=8)\n",
    "\n",
    "# Remove the spines\n",
    "ax.spines[['top','left','bottom']].set_visible(False)\n",
    "\n",
    "# Make the left spine thicker\n",
    "ax.spines['right'].set_linewidth(1.1)\n",
    "\n",
    "# Add in red line and rectangle on top\n",
    "ax.plot([0.12, .9], [.98, .98], transform=fig.transFigure, clip_on=False, color='#E3120B', linewidth=.6)\n",
    "ax.add_patch(plt.Rectangle((0.12,.98), 0.04, -0.02, facecolor='#E3120B', transform=fig.transFigure, clip_on=False, linewidth = 0))\n",
    "\n",
    "# Add in title and subtitle\n",
    "ax.text(x=0.12, y=.93, s=\"Top 10 Countries by Number of Leading Universities\", transform=fig.transFigure, ha='left', fontsize=14, weight='bold', alpha=.8)\n",
    "#ax.text(x=0.12, y=.90, s=\"\", transform=fig.transFigure, ha='left', fontsize=12, alpha=.8)\n",
    "\n",
    "# Set source text\n",
    "ax.text(x=0.1, y=0.12, s=\"Source: Kaggle - Global University Rankings - https://www.kaggle.com/datasets/joyshil0599/global-university-rankings-dataset-2023\", transform=fig.transFigure, ha='left', fontsize=10, alpha=.7)\n",
    "\n",
    "# Adjust the margins aronund the plot \n",
    "plt.subplots_adjust(left=None, bottom=0.2, right=None, top=0.85, wspace=None, hspace=None)\n",
    "\n",
    "# Set a white background\n",
    "fig.patch.set_facecolor('white')"
   ]
  },
  {
   "cell_type": "markdown",
   "metadata": {},
   "source": [
    "# Top 10 University Ranking Change (2010 - 2023)"
   ]
  },
  {
   "cell_type": "code",
   "execution_count": 172,
   "metadata": {},
   "outputs": [
    {
     "data": {
      "image/png": "[encoded data removed]",
      "text/plain": [
       "<Figure size 1200x700 with 3 Axes>"
      ]
     },
     "metadata": {},
     "output_type": "display_data"
    }
   ],
   "source": [
    "plt.figure(figsize=(12, 7))\n",
    "\n",
    "# Fit polynomial line\n",
    "x = df_top200['Rank'].to_numpy()\n",
    "y1 = df_top200['num_international'].to_numpy()\n",
    "y2 = df_top200['number_of_students_per_staff'].to_numpy()\n",
    "y3 = df_top200['number_of_students'].to_numpy()\n",
    "\n",
    "b, a = np.polyfit(x, y1, 1)\n",
    "b1, a1 = np.polyfit(x, y2, 1)\n",
    "b2, a2 = np.polyfit(x, y3, 1)\n",
    "\n",
    "# Create sequence of 100 numbers from 0 to 100\n",
    "xseq = np.linspace(min(x), max(x), num=100)\n",
    "\n",
    "# Ranking vs International students num\n",
    "plt.subplot(2, 2, 1) # divide as 2x1, plot top left\n",
    "plt.scatter(df_top200['Rank'], df_top200['num_international'], s=10, color='red')\n",
    "plt.plot(xseq, a + b * xseq, c='r', linewidth=2)\n",
    "plt.xlabel(\"Ranking\", size=12)\n",
    "plt.ylabel(\"Number of International Students\", size=12)\n",
    "plt.title(\"Ranking vs International Students\", size = 14)\n",
    "plt.grid(True, which='both', linestyle='--', linewidth=0.5)\n",
    "\n",
    "# Ranking vs Student per Staff Ratio\n",
    "plt.subplot(2, 2, 2) # divide as 2x2, plot top right\n",
    "plt.scatter(df_top200['Rank'], df_top200['number_of_students_per_staff'], s=10, color='blue')\n",
    "plt.plot(xseq, a1 + b1 * xseq, c='b', linewidth=2)\n",
    "plt.xlabel(\"Ranking\", size=12)\n",
    "plt.ylabel(\"Student to Staff Ratio\", size=12)\n",
    "plt.title(\"Ranking vs Student to Staff Ratio\", size = 14)\n",
    "plt.grid(True, which='both', linestyle='--', linewidth=0.5)\n",
    "\n",
    "plt.subplot(2, 1, 2) # divide as 2x2, plot top bottom\n",
    "plt.scatter(df_top200['Rank'], df_top200['number_of_students'], s=10, color='green')\n",
    "plt.plot(xseq, a2 + b2 * xseq, c='g', linewidth=2)\n",
    "plt.xlabel(\"Ranking\", size=12)\n",
    "plt.ylabel(\"Number of Students\", size=12)\n",
    "plt.title(\"Ranking vs Number of Students\", size=14)\n",
    "plt.grid(True, which='both', linestyle='--', linewidth=0.5)\n",
    "\n",
    "plt.tight_layout()\n",
    "plt.show()"
   ]
  },
  {
   "cell_type": "code",
   "execution_count": 288,
   "metadata": {},
   "outputs": [
    {
     "data": {
      "text/html": [
       "<div>\n",
       "<style scoped>\n",
       "    .dataframe tbody tr th:only-of-type {\n",
       "        vertical-align: middle;\n",
       "    }\n",
       "\n",
       "    .dataframe tbody tr th {\n",
       "        vertical-align: top;\n",
       "    }\n",
       "\n",
       "    .dataframe thead th {\n",
       "        text-align: right;\n",
       "    }\n",
       "</style>\n",
       "<table border=\"1\" class=\"dataframe\">\n",
       "  <thead>\n",
       "    <tr style=\"text-align: right;\">\n",
       "      <th></th>\n",
       "      <th>Rank</th>\n",
       "      <th>university_name</th>\n",
       "      <th>location</th>\n",
       "      <th>number_of_students</th>\n",
       "      <th>number_of_students_per_staff</th>\n",
       "      <th>international_student</th>\n",
       "      <th>female_male_ratio</th>\n",
       "      <th>num_international</th>\n",
       "    </tr>\n",
       "  </thead>\n",
       "  <tbody>\n",
       "    <tr>\n",
       "      <th>43</th>\n",
       "      <td>44</td>\n",
       "      <td>Monash University</td>\n",
       "      <td>Australia</td>\n",
       "      <td>58725</td>\n",
       "      <td>42.5</td>\n",
       "      <td>0.41</td>\n",
       "      <td>57 : 43</td>\n",
       "      <td>24077</td>\n",
       "    </tr>\n",
       "  </tbody>\n",
       "</table>\n",
       "</div>"
      ],
      "text/plain": [
       "    Rank    university_name   location  number_of_students  \\\n",
       "43    44  Monash University  Australia               58725   \n",
       "\n",
       "    number_of_students_per_staff  international_student female_male_ratio  \\\n",
       "43                          42.5                   0.41           57 : 43   \n",
       "\n",
       "    num_international  \n",
       "43              24077  "
      ]
     },
     "execution_count": 288,
     "metadata": {},
     "output_type": "execute_result"
    }
   ],
   "source": [
    "df_top200['num_international'] = (df['number_of_students'] * df['international_student']).astype(int)"
   ]
  },
  {
   "cell_type": "code",
   "execution_count": 299,
   "metadata": {},
   "outputs": [
    {
     "data": {
      "text/html": [
       "<div>\n",
       "<style scoped>\n",
       "    .dataframe tbody tr th:only-of-type {\n",
       "        vertical-align: middle;\n",
       "    }\n",
       "\n",
       "    .dataframe tbody tr th {\n",
       "        vertical-align: top;\n",
       "    }\n",
       "\n",
       "    .dataframe thead th {\n",
       "        text-align: right;\n",
       "    }\n",
       "</style>\n",
       "<table border=\"1\" class=\"dataframe\">\n",
       "  <thead>\n",
       "    <tr style=\"text-align: right;\">\n",
       "      <th></th>\n",
       "      <th>Rank</th>\n",
       "      <th>university_name</th>\n",
       "      <th>location</th>\n",
       "      <th>number_of_students</th>\n",
       "      <th>number_of_students_per_staff</th>\n",
       "      <th>international_student</th>\n",
       "      <th>female_male_ratio</th>\n",
       "      <th>num_international</th>\n",
       "    </tr>\n",
       "  </thead>\n",
       "  <tbody>\n",
       "    <tr>\n",
       "      <th>0</th>\n",
       "      <td>1</td>\n",
       "      <td>University of Oxford</td>\n",
       "      <td>United Kingdom</td>\n",
       "      <td>20965</td>\n",
       "      <td>10.6</td>\n",
       "      <td>0.42</td>\n",
       "      <td>48 : 52</td>\n",
       "      <td>8805</td>\n",
       "    </tr>\n",
       "    <tr>\n",
       "      <th>2</th>\n",
       "      <td>3</td>\n",
       "      <td>University of Cambridge</td>\n",
       "      <td>United Kingdom</td>\n",
       "      <td>20185</td>\n",
       "      <td>11.3</td>\n",
       "      <td>0.39</td>\n",
       "      <td>47 : 53</td>\n",
       "      <td>7872</td>\n",
       "    </tr>\n",
       "    <tr>\n",
       "      <th>9</th>\n",
       "      <td>10</td>\n",
       "      <td>Imperial College London</td>\n",
       "      <td>United Kingdom</td>\n",
       "      <td>18545</td>\n",
       "      <td>11.2</td>\n",
       "      <td>0.61</td>\n",
       "      <td>40 : 60</td>\n",
       "      <td>11312</td>\n",
       "    </tr>\n",
       "    <tr>\n",
       "      <th>21</th>\n",
       "      <td>22</td>\n",
       "      <td>UCL</td>\n",
       "      <td>United Kingdom</td>\n",
       "      <td>36790</td>\n",
       "      <td>10.3</td>\n",
       "      <td>0.60</td>\n",
       "      <td>59 : 41</td>\n",
       "      <td>22074</td>\n",
       "    </tr>\n",
       "    <tr>\n",
       "      <th>28</th>\n",
       "      <td>29</td>\n",
       "      <td>University of Edinburgh</td>\n",
       "      <td>United Kingdom</td>\n",
       "      <td>32845</td>\n",
       "      <td>11.8</td>\n",
       "      <td>0.47</td>\n",
       "      <td>62 : 38</td>\n",
       "      <td>15437</td>\n",
       "    </tr>\n",
       "    <tr>\n",
       "      <th>34</th>\n",
       "      <td>35</td>\n",
       "      <td>King’s College London</td>\n",
       "      <td>United Kingdom</td>\n",
       "      <td>28965</td>\n",
       "      <td>11.8</td>\n",
       "      <td>0.52</td>\n",
       "      <td>63 : 37</td>\n",
       "      <td>15061</td>\n",
       "    </tr>\n",
       "    <tr>\n",
       "      <th>36</th>\n",
       "      <td>37</td>\n",
       "      <td>London School of Economics and Political Science</td>\n",
       "      <td>United Kingdom</td>\n",
       "      <td>11120</td>\n",
       "      <td>11.9</td>\n",
       "      <td>0.73</td>\n",
       "      <td>55 : 45</td>\n",
       "      <td>8117</td>\n",
       "    </tr>\n",
       "    <tr>\n",
       "      <th>53</th>\n",
       "      <td>54</td>\n",
       "      <td>University of Manchester</td>\n",
       "      <td>United Kingdom</td>\n",
       "      <td>37035</td>\n",
       "      <td>14.2</td>\n",
       "      <td>0.44</td>\n",
       "      <td>55 : 45</td>\n",
       "      <td>16295</td>\n",
       "    </tr>\n",
       "    <tr>\n",
       "      <th>75</th>\n",
       "      <td>76</td>\n",
       "      <td>University of Bristol</td>\n",
       "      <td>United Kingdom</td>\n",
       "      <td>25680</td>\n",
       "      <td>14.6</td>\n",
       "      <td>0.31</td>\n",
       "      <td>56 : 44</td>\n",
       "      <td>7960</td>\n",
       "    </tr>\n",
       "    <tr>\n",
       "      <th>82</th>\n",
       "      <td>82</td>\n",
       "      <td>University of Glasgow</td>\n",
       "      <td>United Kingdom</td>\n",
       "      <td>28540</td>\n",
       "      <td>13.5</td>\n",
       "      <td>0.41</td>\n",
       "      <td>59 : 41</td>\n",
       "      <td>11701</td>\n",
       "    </tr>\n",
       "    <tr>\n",
       "      <th>104</th>\n",
       "      <td>104</td>\n",
       "      <td>University of Warwick</td>\n",
       "      <td>United Kingdom</td>\n",
       "      <td>23230</td>\n",
       "      <td>13.1</td>\n",
       "      <td>0.44</td>\n",
       "      <td>50 : 50</td>\n",
       "      <td>10221</td>\n",
       "    </tr>\n",
       "    <tr>\n",
       "      <th>107</th>\n",
       "      <td>108</td>\n",
       "      <td>University of Birmingham</td>\n",
       "      <td>United Kingdom</td>\n",
       "      <td>31820</td>\n",
       "      <td>15.0</td>\n",
       "      <td>0.34</td>\n",
       "      <td>58 : 42</td>\n",
       "      <td>10818</td>\n",
       "    </tr>\n",
       "    <tr>\n",
       "      <th>108</th>\n",
       "      <td>108</td>\n",
       "      <td>University of Southampton</td>\n",
       "      <td>United Kingdom</td>\n",
       "      <td>21175</td>\n",
       "      <td>13.7</td>\n",
       "      <td>0.39</td>\n",
       "      <td>53 : 47</td>\n",
       "      <td>8258</td>\n",
       "    </tr>\n",
       "    <tr>\n",
       "      <th>115</th>\n",
       "      <td>114</td>\n",
       "      <td>University of Sheffield</td>\n",
       "      <td>United Kingdom</td>\n",
       "      <td>27465</td>\n",
       "      <td>14.5</td>\n",
       "      <td>0.41</td>\n",
       "      <td>53 : 47</td>\n",
       "      <td>11260</td>\n",
       "    </tr>\n",
       "    <tr>\n",
       "      <th>121</th>\n",
       "      <td>122</td>\n",
       "      <td>Lancaster University</td>\n",
       "      <td>United Kingdom</td>\n",
       "      <td>14380</td>\n",
       "      <td>12.8</td>\n",
       "      <td>0.39</td>\n",
       "      <td>51 : 49</td>\n",
       "      <td>5608</td>\n",
       "    </tr>\n",
       "    <tr>\n",
       "      <th>123</th>\n",
       "      <td>124</td>\n",
       "      <td>Queen Mary University of London</td>\n",
       "      <td>United Kingdom</td>\n",
       "      <td>20505</td>\n",
       "      <td>13.1</td>\n",
       "      <td>0.46</td>\n",
       "      <td>55 : 45</td>\n",
       "      <td>9432</td>\n",
       "    </tr>\n",
       "    <tr>\n",
       "      <th>128</th>\n",
       "      <td>128</td>\n",
       "      <td>University of Leeds</td>\n",
       "      <td>United Kingdom</td>\n",
       "      <td>33990</td>\n",
       "      <td>14.6</td>\n",
       "      <td>0.36</td>\n",
       "      <td>60 : 40</td>\n",
       "      <td>12236</td>\n",
       "    </tr>\n",
       "    <tr>\n",
       "      <th>129</th>\n",
       "      <td>130</td>\n",
       "      <td>University of Nottingham</td>\n",
       "      <td>United Kingdom</td>\n",
       "      <td>32875</td>\n",
       "      <td>15.1</td>\n",
       "      <td>0.31</td>\n",
       "      <td>54 : 46</td>\n",
       "      <td>10191</td>\n",
       "    </tr>\n",
       "    <tr>\n",
       "      <th>136</th>\n",
       "      <td>137</td>\n",
       "      <td>University of Exeter</td>\n",
       "      <td>United Kingdom</td>\n",
       "      <td>24165</td>\n",
       "      <td>15.9</td>\n",
       "      <td>0.29</td>\n",
       "      <td>53 : 47</td>\n",
       "      <td>7007</td>\n",
       "    </tr>\n",
       "    <tr>\n",
       "      <th>139</th>\n",
       "      <td>139</td>\n",
       "      <td>Newcastle University</td>\n",
       "      <td>United Kingdom</td>\n",
       "      <td>25590</td>\n",
       "      <td>15.1</td>\n",
       "      <td>0.29</td>\n",
       "      <td>52 : 48</td>\n",
       "      <td>7421</td>\n",
       "    </tr>\n",
       "    <tr>\n",
       "      <th>142</th>\n",
       "      <td>139</td>\n",
       "      <td>University of York</td>\n",
       "      <td>United Kingdom</td>\n",
       "      <td>17665</td>\n",
       "      <td>14.4</td>\n",
       "      <td>0.28</td>\n",
       "      <td>56 : 44</td>\n",
       "      <td>4946</td>\n",
       "    </tr>\n",
       "    <tr>\n",
       "      <th>162</th>\n",
       "      <td>163</td>\n",
       "      <td>University of Leicester</td>\n",
       "      <td>United Kingdom</td>\n",
       "      <td>14650</td>\n",
       "      <td>14.1</td>\n",
       "      <td>0.34</td>\n",
       "      <td>54 : 46</td>\n",
       "      <td>4981</td>\n",
       "    </tr>\n",
       "    <tr>\n",
       "      <th>176</th>\n",
       "      <td>176</td>\n",
       "      <td>University of Liverpool</td>\n",
       "      <td>United Kingdom</td>\n",
       "      <td>26350</td>\n",
       "      <td>14.2</td>\n",
       "      <td>0.36</td>\n",
       "      <td>55 : 45</td>\n",
       "      <td>9486</td>\n",
       "    </tr>\n",
       "    <tr>\n",
       "      <th>186</th>\n",
       "      <td>187</td>\n",
       "      <td>Cardiff University</td>\n",
       "      <td>United Kingdom</td>\n",
       "      <td>27105</td>\n",
       "      <td>14.3</td>\n",
       "      <td>0.28</td>\n",
       "      <td>59 : 41</td>\n",
       "      <td>7589</td>\n",
       "    </tr>\n",
       "    <tr>\n",
       "      <th>191</th>\n",
       "      <td>192</td>\n",
       "      <td>University of Aberdeen</td>\n",
       "      <td>United Kingdom</td>\n",
       "      <td>13205</td>\n",
       "      <td>16.2</td>\n",
       "      <td>0.44</td>\n",
       "      <td>58 : 42</td>\n",
       "      <td>5810</td>\n",
       "    </tr>\n",
       "    <tr>\n",
       "      <th>197</th>\n",
       "      <td>198</td>\n",
       "      <td>Durham University</td>\n",
       "      <td>United Kingdom</td>\n",
       "      <td>18425</td>\n",
       "      <td>14.1</td>\n",
       "      <td>0.35</td>\n",
       "      <td>54 : 46</td>\n",
       "      <td>6448</td>\n",
       "    </tr>\n",
       "    <tr>\n",
       "      <th>198</th>\n",
       "      <td>198</td>\n",
       "      <td>Queen’s University Belfast</td>\n",
       "      <td>United Kingdom</td>\n",
       "      <td>19060</td>\n",
       "      <td>15.8</td>\n",
       "      <td>0.39</td>\n",
       "      <td>57 : 43</td>\n",
       "      <td>7433</td>\n",
       "    </tr>\n",
       "    <tr>\n",
       "      <th>199</th>\n",
       "      <td>200</td>\n",
       "      <td>University of Reading</td>\n",
       "      <td>United Kingdom</td>\n",
       "      <td>15720</td>\n",
       "      <td>16.4</td>\n",
       "      <td>0.32</td>\n",
       "      <td>56 : 44</td>\n",
       "      <td>5030</td>\n",
       "    </tr>\n",
       "  </tbody>\n",
       "</table>\n",
       "</div>"
      ],
      "text/plain": [
       "     Rank                                   university_name        location  \\\n",
       "0       1                              University of Oxford  United Kingdom   \n",
       "2       3                           University of Cambridge  United Kingdom   \n",
       "9      10                           Imperial College London  United Kingdom   \n",
       "21     22                                               UCL  United Kingdom   \n",
       "28     29                           University of Edinburgh  United Kingdom   \n",
       "34     35                             King’s College London  United Kingdom   \n",
       "36     37  London School of Economics and Political Science  United Kingdom   \n",
       "53     54                          University of Manchester  United Kingdom   \n",
       "75     76                             University of Bristol  United Kingdom   \n",
       "82     82                             University of Glasgow  United Kingdom   \n",
       "104   104                             University of Warwick  United Kingdom   \n",
       "107   108                          University of Birmingham  United Kingdom   \n",
       "108   108                         University of Southampton  United Kingdom   \n",
       "115   114                           University of Sheffield  United Kingdom   \n",
       "121   122                              Lancaster University  United Kingdom   \n",
       "123   124                   Queen Mary University of London  United Kingdom   \n",
       "128   128                               University of Leeds  United Kingdom   \n",
       "129   130                          University of Nottingham  United Kingdom   \n",
       "136   137                              University of Exeter  United Kingdom   \n",
       "139   139                              Newcastle University  United Kingdom   \n",
       "142   139                                University of York  United Kingdom   \n",
       "162   163                           University of Leicester  United Kingdom   \n",
       "176   176                           University of Liverpool  United Kingdom   \n",
       "186   187                                Cardiff University  United Kingdom   \n",
       "191   192                            University of Aberdeen  United Kingdom   \n",
       "197   198                                 Durham University  United Kingdom   \n",
       "198   198                        Queen’s University Belfast  United Kingdom   \n",
       "199   200                             University of Reading  United Kingdom   \n",
       "\n",
       "     number_of_students  number_of_students_per_staff  international_student  \\\n",
       "0                 20965                          10.6                   0.42   \n",
       "2                 20185                          11.3                   0.39   \n",
       "9                 18545                          11.2                   0.61   \n",
       "21                36790                          10.3                   0.60   \n",
       "28                32845                          11.8                   0.47   \n",
       "34                28965                          11.8                   0.52   \n",
       "36                11120                          11.9                   0.73   \n",
       "53                37035                          14.2                   0.44   \n",
       "75                25680                          14.6                   0.31   \n",
       "82                28540                          13.5                   0.41   \n",
       "104               23230                          13.1                   0.44   \n",
       "107               31820                          15.0                   0.34   \n",
       "108               21175                          13.7                   0.39   \n",
       "115               27465                          14.5                   0.41   \n",
       "121               14380                          12.8                   0.39   \n",
       "123               20505                          13.1                   0.46   \n",
       "128               33990                          14.6                   0.36   \n",
       "129               32875                          15.1                   0.31   \n",
       "136               24165                          15.9                   0.29   \n",
       "139               25590                          15.1                   0.29   \n",
       "142               17665                          14.4                   0.28   \n",
       "162               14650                          14.1                   0.34   \n",
       "176               26350                          14.2                   0.36   \n",
       "186               27105                          14.3                   0.28   \n",
       "191               13205                          16.2                   0.44   \n",
       "197               18425                          14.1                   0.35   \n",
       "198               19060                          15.8                   0.39   \n",
       "199               15720                          16.4                   0.32   \n",
       "\n",
       "    female_male_ratio  num_international  \n",
       "0             48 : 52               8805  \n",
       "2             47 : 53               7872  \n",
       "9             40 : 60              11312  \n",
       "21            59 : 41              22074  \n",
       "28            62 : 38              15437  \n",
       "34            63 : 37              15061  \n",
       "36            55 : 45               8117  \n",
       "53            55 : 45              16295  \n",
       "75            56 : 44               7960  \n",
       "82            59 : 41              11701  \n",
       "104           50 : 50              10221  \n",
       "107           58 : 42              10818  \n",
       "108           53 : 47               8258  \n",
       "115           53 : 47              11260  \n",
       "121           51 : 49               5608  \n",
       "123           55 : 45               9432  \n",
       "128           60 : 40              12236  \n",
       "129           54 : 46              10191  \n",
       "136           53 : 47               7007  \n",
       "139           52 : 48               7421  \n",
       "142           56 : 44               4946  \n",
       "162           54 : 46               4981  \n",
       "176           55 : 45               9486  \n",
       "186           59 : 41               7589  \n",
       "191           58 : 42               5810  \n",
       "197           54 : 46               6448  \n",
       "198           57 : 43               7433  \n",
       "199           56 : 44               5030  "
      ]
     },
     "execution_count": 299,
     "metadata": {},
     "output_type": "execute_result"
    }
   ],
   "source": [
    "df_top200[df_top200['location'] == \"United Kingdom\"]"
   ]
  },
  {
   "cell_type": "markdown",
   "metadata": {},
   "source": [
    "Insights:\n",
    "1. As ranking increases, the number of international students decrease.\n",
    "2. As ranking increases, there is a slight increases in student:staff ratio.\n",
    "3. A slight decrease in number of students as ranking increases but generally there's no trend."
   ]
  },
  {
   "cell_type": "markdown",
   "metadata": {},
   "source": [
    "## Pyramid Chart of top 10 Universities (Male to Female)"
   ]
  },
  {
   "cell_type": "code",
   "execution_count": 262,
   "metadata": {},
   "outputs": [
    {
     "data": {
      "text/html": [
       "<div>\n",
       "<style scoped>\n",
       "    .dataframe tbody tr th:only-of-type {\n",
       "        vertical-align: middle;\n",
       "    }\n",
       "\n",
       "    .dataframe tbody tr th {\n",
       "        vertical-align: top;\n",
       "    }\n",
       "\n",
       "    .dataframe thead th {\n",
       "        text-align: right;\n",
       "    }\n",
       "</style>\n",
       "<table border=\"1\" class=\"dataframe\">\n",
       "  <thead>\n",
       "    <tr style=\"text-align: right;\">\n",
       "      <th></th>\n",
       "      <th>Rank</th>\n",
       "      <th>university_name</th>\n",
       "      <th>location</th>\n",
       "      <th>number_of_students</th>\n",
       "      <th>number_of_students_per_staff</th>\n",
       "      <th>international_student</th>\n",
       "      <th>female_male_ratio</th>\n",
       "    </tr>\n",
       "  </thead>\n",
       "  <tbody>\n",
       "    <tr>\n",
       "      <th>0</th>\n",
       "      <td>1</td>\n",
       "      <td>University of Oxford</td>\n",
       "      <td>United Kingdom</td>\n",
       "      <td>20965</td>\n",
       "      <td>10.6</td>\n",
       "      <td>0.42</td>\n",
       "      <td>48 : 52</td>\n",
       "    </tr>\n",
       "    <tr>\n",
       "      <th>1</th>\n",
       "      <td>2</td>\n",
       "      <td>Harvard University</td>\n",
       "      <td>United States</td>\n",
       "      <td>21887</td>\n",
       "      <td>9.6</td>\n",
       "      <td>0.25</td>\n",
       "      <td>50 : 50</td>\n",
       "    </tr>\n",
       "    <tr>\n",
       "      <th>2</th>\n",
       "      <td>3</td>\n",
       "      <td>University of Cambridge</td>\n",
       "      <td>United Kingdom</td>\n",
       "      <td>20185</td>\n",
       "      <td>11.3</td>\n",
       "      <td>0.39</td>\n",
       "      <td>47 : 53</td>\n",
       "    </tr>\n",
       "    <tr>\n",
       "      <th>3</th>\n",
       "      <td>3</td>\n",
       "      <td>Stanford University</td>\n",
       "      <td>United States</td>\n",
       "      <td>16164</td>\n",
       "      <td>7.1</td>\n",
       "      <td>0.24</td>\n",
       "      <td>46 : 54</td>\n",
       "    </tr>\n",
       "    <tr>\n",
       "      <th>4</th>\n",
       "      <td>5</td>\n",
       "      <td>Massachusetts Institute of Technology</td>\n",
       "      <td>United States</td>\n",
       "      <td>11415</td>\n",
       "      <td>8.2</td>\n",
       "      <td>0.33</td>\n",
       "      <td>40 : 60</td>\n",
       "    </tr>\n",
       "    <tr>\n",
       "      <th>5</th>\n",
       "      <td>6</td>\n",
       "      <td>California Institute of Technology</td>\n",
       "      <td>United States</td>\n",
       "      <td>2237</td>\n",
       "      <td>6.2</td>\n",
       "      <td>0.34</td>\n",
       "      <td>37 : 63</td>\n",
       "    </tr>\n",
       "    <tr>\n",
       "      <th>6</th>\n",
       "      <td>7</td>\n",
       "      <td>Princeton University</td>\n",
       "      <td>United States</td>\n",
       "      <td>8279</td>\n",
       "      <td>8.0</td>\n",
       "      <td>0.23</td>\n",
       "      <td>46 : 54</td>\n",
       "    </tr>\n",
       "    <tr>\n",
       "      <th>7</th>\n",
       "      <td>8</td>\n",
       "      <td>University of California, Berkeley</td>\n",
       "      <td>United States</td>\n",
       "      <td>40921</td>\n",
       "      <td>18.4</td>\n",
       "      <td>0.24</td>\n",
       "      <td>52 : 48</td>\n",
       "    </tr>\n",
       "    <tr>\n",
       "      <th>8</th>\n",
       "      <td>9</td>\n",
       "      <td>Yale University</td>\n",
       "      <td>United States</td>\n",
       "      <td>13482</td>\n",
       "      <td>5.9</td>\n",
       "      <td>0.21</td>\n",
       "      <td>52 : 48</td>\n",
       "    </tr>\n",
       "    <tr>\n",
       "      <th>9</th>\n",
       "      <td>10</td>\n",
       "      <td>Imperial College London</td>\n",
       "      <td>United Kingdom</td>\n",
       "      <td>18545</td>\n",
       "      <td>11.2</td>\n",
       "      <td>0.61</td>\n",
       "      <td>40 : 60</td>\n",
       "    </tr>\n",
       "  </tbody>\n",
       "</table>\n",
       "</div>"
      ],
      "text/plain": [
       "   Rank                        university_name        location  \\\n",
       "0     1                   University of Oxford  United Kingdom   \n",
       "1     2                     Harvard University   United States   \n",
       "2     3                University of Cambridge  United Kingdom   \n",
       "3     3                    Stanford University   United States   \n",
       "4     5  Massachusetts Institute of Technology   United States   \n",
       "5     6     California Institute of Technology   United States   \n",
       "6     7                   Princeton University   United States   \n",
       "7     8     University of California, Berkeley   United States   \n",
       "8     9                        Yale University   United States   \n",
       "9    10                Imperial College London  United Kingdom   \n",
       "\n",
       "   number_of_students  number_of_students_per_staff  international_student  \\\n",
       "0               20965                          10.6                   0.42   \n",
       "1               21887                           9.6                   0.25   \n",
       "2               20185                          11.3                   0.39   \n",
       "3               16164                           7.1                   0.24   \n",
       "4               11415                           8.2                   0.33   \n",
       "5                2237                           6.2                   0.34   \n",
       "6                8279                           8.0                   0.23   \n",
       "7               40921                          18.4                   0.24   \n",
       "8               13482                           5.9                   0.21   \n",
       "9               18545                          11.2                   0.61   \n",
       "\n",
       "  female_male_ratio  \n",
       "0           48 : 52  \n",
       "1           50 : 50  \n",
       "2           47 : 53  \n",
       "3           46 : 54  \n",
       "4           40 : 60  \n",
       "5           37 : 63  \n",
       "6           46 : 54  \n",
       "7           52 : 48  \n",
       "8           52 : 48  \n",
       "9           40 : 60  "
      ]
     },
     "execution_count": 262,
     "metadata": {},
     "output_type": "execute_result"
    }
   ],
   "source": [
    "df_pyramid = df[:10].copy()\n",
    "df_pyramid"
   ]
  },
  {
   "cell_type": "code",
   "execution_count": 263,
   "metadata": {},
   "outputs": [
    {
     "data": {
      "text/html": [
       "<div>\n",
       "<style scoped>\n",
       "    .dataframe tbody tr th:only-of-type {\n",
       "        vertical-align: middle;\n",
       "    }\n",
       "\n",
       "    .dataframe tbody tr th {\n",
       "        vertical-align: top;\n",
       "    }\n",
       "\n",
       "    .dataframe thead th {\n",
       "        text-align: right;\n",
       "    }\n",
       "</style>\n",
       "<table border=\"1\" class=\"dataframe\">\n",
       "  <thead>\n",
       "    <tr style=\"text-align: right;\">\n",
       "      <th></th>\n",
       "      <th>Rank</th>\n",
       "      <th>university_name</th>\n",
       "      <th>location</th>\n",
       "      <th>number_of_students</th>\n",
       "      <th>number_of_students_per_staff</th>\n",
       "      <th>international_student</th>\n",
       "      <th>female_male_ratio</th>\n",
       "      <th>num_female</th>\n",
       "      <th>num_male</th>\n",
       "    </tr>\n",
       "  </thead>\n",
       "  <tbody>\n",
       "    <tr>\n",
       "      <th>0</th>\n",
       "      <td>1</td>\n",
       "      <td>University of Oxford</td>\n",
       "      <td>United Kingdom</td>\n",
       "      <td>20965</td>\n",
       "      <td>10.6</td>\n",
       "      <td>0.42</td>\n",
       "      <td>48 : 52</td>\n",
       "      <td>48</td>\n",
       "      <td>52</td>\n",
       "    </tr>\n",
       "    <tr>\n",
       "      <th>1</th>\n",
       "      <td>2</td>\n",
       "      <td>Harvard University</td>\n",
       "      <td>United States</td>\n",
       "      <td>21887</td>\n",
       "      <td>9.6</td>\n",
       "      <td>0.25</td>\n",
       "      <td>50 : 50</td>\n",
       "      <td>50</td>\n",
       "      <td>50</td>\n",
       "    </tr>\n",
       "    <tr>\n",
       "      <th>2</th>\n",
       "      <td>3</td>\n",
       "      <td>University of Cambridge</td>\n",
       "      <td>United Kingdom</td>\n",
       "      <td>20185</td>\n",
       "      <td>11.3</td>\n",
       "      <td>0.39</td>\n",
       "      <td>47 : 53</td>\n",
       "      <td>47</td>\n",
       "      <td>53</td>\n",
       "    </tr>\n",
       "    <tr>\n",
       "      <th>3</th>\n",
       "      <td>3</td>\n",
       "      <td>Stanford University</td>\n",
       "      <td>United States</td>\n",
       "      <td>16164</td>\n",
       "      <td>7.1</td>\n",
       "      <td>0.24</td>\n",
       "      <td>46 : 54</td>\n",
       "      <td>46</td>\n",
       "      <td>54</td>\n",
       "    </tr>\n",
       "    <tr>\n",
       "      <th>4</th>\n",
       "      <td>5</td>\n",
       "      <td>Massachusetts Institute of Technology</td>\n",
       "      <td>United States</td>\n",
       "      <td>11415</td>\n",
       "      <td>8.2</td>\n",
       "      <td>0.33</td>\n",
       "      <td>40 : 60</td>\n",
       "      <td>40</td>\n",
       "      <td>60</td>\n",
       "    </tr>\n",
       "    <tr>\n",
       "      <th>5</th>\n",
       "      <td>6</td>\n",
       "      <td>California Institute of Technology</td>\n",
       "      <td>United States</td>\n",
       "      <td>2237</td>\n",
       "      <td>6.2</td>\n",
       "      <td>0.34</td>\n",
       "      <td>37 : 63</td>\n",
       "      <td>37</td>\n",
       "      <td>63</td>\n",
       "    </tr>\n",
       "    <tr>\n",
       "      <th>6</th>\n",
       "      <td>7</td>\n",
       "      <td>Princeton University</td>\n",
       "      <td>United States</td>\n",
       "      <td>8279</td>\n",
       "      <td>8.0</td>\n",
       "      <td>0.23</td>\n",
       "      <td>46 : 54</td>\n",
       "      <td>46</td>\n",
       "      <td>54</td>\n",
       "    </tr>\n",
       "    <tr>\n",
       "      <th>7</th>\n",
       "      <td>8</td>\n",
       "      <td>University of California, Berkeley</td>\n",
       "      <td>United States</td>\n",
       "      <td>40921</td>\n",
       "      <td>18.4</td>\n",
       "      <td>0.24</td>\n",
       "      <td>52 : 48</td>\n",
       "      <td>52</td>\n",
       "      <td>48</td>\n",
       "    </tr>\n",
       "    <tr>\n",
       "      <th>8</th>\n",
       "      <td>9</td>\n",
       "      <td>Yale University</td>\n",
       "      <td>United States</td>\n",
       "      <td>13482</td>\n",
       "      <td>5.9</td>\n",
       "      <td>0.21</td>\n",
       "      <td>52 : 48</td>\n",
       "      <td>52</td>\n",
       "      <td>48</td>\n",
       "    </tr>\n",
       "    <tr>\n",
       "      <th>9</th>\n",
       "      <td>10</td>\n",
       "      <td>Imperial College London</td>\n",
       "      <td>United Kingdom</td>\n",
       "      <td>18545</td>\n",
       "      <td>11.2</td>\n",
       "      <td>0.61</td>\n",
       "      <td>40 : 60</td>\n",
       "      <td>40</td>\n",
       "      <td>60</td>\n",
       "    </tr>\n",
       "  </tbody>\n",
       "</table>\n",
       "</div>"
      ],
      "text/plain": [
       "   Rank                        university_name        location  \\\n",
       "0     1                   University of Oxford  United Kingdom   \n",
       "1     2                     Harvard University   United States   \n",
       "2     3                University of Cambridge  United Kingdom   \n",
       "3     3                    Stanford University   United States   \n",
       "4     5  Massachusetts Institute of Technology   United States   \n",
       "5     6     California Institute of Technology   United States   \n",
       "6     7                   Princeton University   United States   \n",
       "7     8     University of California, Berkeley   United States   \n",
       "8     9                        Yale University   United States   \n",
       "9    10                Imperial College London  United Kingdom   \n",
       "\n",
       "   number_of_students  number_of_students_per_staff  international_student  \\\n",
       "0               20965                          10.6                   0.42   \n",
       "1               21887                           9.6                   0.25   \n",
       "2               20185                          11.3                   0.39   \n",
       "3               16164                           7.1                   0.24   \n",
       "4               11415                           8.2                   0.33   \n",
       "5                2237                           6.2                   0.34   \n",
       "6                8279                           8.0                   0.23   \n",
       "7               40921                          18.4                   0.24   \n",
       "8               13482                           5.9                   0.21   \n",
       "9               18545                          11.2                   0.61   \n",
       "\n",
       "  female_male_ratio  num_female  num_male  \n",
       "0           48 : 52          48        52  \n",
       "1           50 : 50          50        50  \n",
       "2           47 : 53          47        53  \n",
       "3           46 : 54          46        54  \n",
       "4           40 : 60          40        60  \n",
       "5           37 : 63          37        63  \n",
       "6           46 : 54          46        54  \n",
       "7           52 : 48          52        48  \n",
       "8           52 : 48          52        48  \n",
       "9           40 : 60          40        60  "
      ]
     },
     "execution_count": 263,
     "metadata": {},
     "output_type": "execute_result"
    }
   ],
   "source": [
    "df_pyramid[['num_female', 'num_male']] = df_pyramid['female_male_ratio'].str.split(' : ', expand=True)\n",
    "df_pyramid['num_female'] = df_pyramid['num_female'].astype(int)\n",
    "df_pyramid['num_male'] = df_pyramid['num_male'].astype(int)\n",
    "df_pyramid"
   ]
  },
  {
   "cell_type": "code",
   "execution_count": 277,
   "metadata": {},
   "outputs": [
    {
     "data": {
      "image/png": "[encoded data removed]",
      "text/plain": [
       "<Figure size 1800x1500 with 1 Axes>"
      ]
     },
     "metadata": {},
     "output_type": "display_data"
    }
   ],
   "source": [
    "import matplotlib.pyplot as plt\n",
    "\n",
    "# Colors for male and female\n",
    "female_color = \"#ee7a87\"\n",
    "male_color = \"#4682b4\"\n",
    "\n",
    "# Set up the figure and axis\n",
    "fig, ax = plt.subplots(figsize=(18, 15))\n",
    "\n",
    "# Plotting the bars\n",
    "ax.barh(df_pyramid[\"university_name\"], df_pyramid[\"num_female\"], color=female_color, label=\"Female\")\n",
    "ax.barh(df_pyramid[\"university_name\"], -df_pyramid[\"num_male\"], color=male_color, label=\"Male\")\n",
    "ax.tick_params(axis='both', which='major', labelsize=15)\n",
    "\n",
    "# Adding the data labels\n",
    "for idx, row in df_pyramid.iterrows():\n",
    "    ax.text(row[\"num_female\"] + 0.5, idx, str(row[\"num_female\"]) + '%', va='center', ha='left', color='black', fontsize=14)\n",
    "    ax.text(-row[\"num_male\"] - 0.5, idx, str(row[\"num_male\"]) + '%', va='center', ha='right', color='black', fontsize=14)\n",
    "\n",
    "# Setting the labels and title\n",
    "ax.set_xlabel(\"Percentage (%)\", fontsize=15)\n",
    "ax.set_title(\"Gender Distribution in Top 10 Universities\", fontsize=20)\n",
    "ax.legend(fontsize=15, loc='upper right', bbox_to_anchor=(1.15, 1))\n",
    "\n",
    "# Aesthetic adjustments\n",
    "ax.spines['top'].set_visible(False)\n",
    "ax.spines['right'].set_visible(False)\n",
    "ax.spines['bottom'].set_visible(False)\n",
    "ax.spines['left'].set_color('#DDDDDD')\n",
    "ax.tick_params(bottom=False, left=False)\n",
    "ax.set_axisbelow(True)\n",
    "ax.yaxis.grid(True, color='#EEEEEE')\n",
    "ax.xaxis.grid(False)\n",
    "\n",
    "# Display the plot\n",
    "plt.subplots_adjust(left=0.2, right=0.8)\n",
    "plt.show()"
   ]
  }
 ],
 "metadata": {
  "kernelspec": {
   "display_name": "Python 3",
   "language": "python",
   "name": "python3"
  },
  "language_info": {
   "codemirror_mode": {
    "name": "ipython",
    "version": 3
   },
   "file_extension": ".py",
   "mimetype": "text/x-python",
   "name": "python",
   "nbconvert_exporter": "python",
   "pygments_lexer": "ipython3",
   "version": "3.10.9"
  },
  "orig_nbformat": 4
 },
 "nbformat": 4,
 "nbformat_minor": 2
}
